{
 "cells": [
  {
   "cell_type": "markdown",
   "metadata": {},
   "source": [
    "## Part 1: Preprocessing"
   ]
  },
  {
   "cell_type": "code",
   "execution_count": 7,
   "metadata": {},
   "outputs": [
    {
     "name": "stderr",
     "output_type": "stream",
     "text": [
      "2025-04-17 19:17:37.363729: I tensorflow/core/platform/cpu_feature_guard.cc:210] This TensorFlow binary is optimized to use available CPU instructions in performance-critical operations.\n",
      "To enable the following instructions: AVX2 FMA, in other operations, rebuild TensorFlow with the appropriate compiler flags.\n"
     ]
    },
    {
     "data": {
      "text/html": [
       "<div>\n",
       "<style scoped>\n",
       "    .dataframe tbody tr th:only-of-type {\n",
       "        vertical-align: middle;\n",
       "    }\n",
       "\n",
       "    .dataframe tbody tr th {\n",
       "        vertical-align: top;\n",
       "    }\n",
       "\n",
       "    .dataframe thead th {\n",
       "        text-align: right;\n",
       "    }\n",
       "</style>\n",
       "<table border=\"1\" class=\"dataframe\">\n",
       "  <thead>\n",
       "    <tr style=\"text-align: right;\">\n",
       "      <th></th>\n",
       "      <th>Age</th>\n",
       "      <th>Attrition</th>\n",
       "      <th>BusinessTravel</th>\n",
       "      <th>Department</th>\n",
       "      <th>DistanceFromHome</th>\n",
       "      <th>Education</th>\n",
       "      <th>EducationField</th>\n",
       "      <th>EnvironmentSatisfaction</th>\n",
       "      <th>HourlyRate</th>\n",
       "      <th>JobInvolvement</th>\n",
       "      <th>...</th>\n",
       "      <th>PerformanceRating</th>\n",
       "      <th>RelationshipSatisfaction</th>\n",
       "      <th>StockOptionLevel</th>\n",
       "      <th>TotalWorkingYears</th>\n",
       "      <th>TrainingTimesLastYear</th>\n",
       "      <th>WorkLifeBalance</th>\n",
       "      <th>YearsAtCompany</th>\n",
       "      <th>YearsInCurrentRole</th>\n",
       "      <th>YearsSinceLastPromotion</th>\n",
       "      <th>YearsWithCurrManager</th>\n",
       "    </tr>\n",
       "  </thead>\n",
       "  <tbody>\n",
       "    <tr>\n",
       "      <th>0</th>\n",
       "      <td>41</td>\n",
       "      <td>Yes</td>\n",
       "      <td>Travel_Rarely</td>\n",
       "      <td>Sales</td>\n",
       "      <td>1</td>\n",
       "      <td>2</td>\n",
       "      <td>Life Sciences</td>\n",
       "      <td>2</td>\n",
       "      <td>94</td>\n",
       "      <td>3</td>\n",
       "      <td>...</td>\n",
       "      <td>3</td>\n",
       "      <td>1</td>\n",
       "      <td>0</td>\n",
       "      <td>8</td>\n",
       "      <td>0</td>\n",
       "      <td>1</td>\n",
       "      <td>6</td>\n",
       "      <td>4</td>\n",
       "      <td>0</td>\n",
       "      <td>5</td>\n",
       "    </tr>\n",
       "    <tr>\n",
       "      <th>1</th>\n",
       "      <td>49</td>\n",
       "      <td>No</td>\n",
       "      <td>Travel_Frequently</td>\n",
       "      <td>Research &amp; Development</td>\n",
       "      <td>8</td>\n",
       "      <td>1</td>\n",
       "      <td>Life Sciences</td>\n",
       "      <td>3</td>\n",
       "      <td>61</td>\n",
       "      <td>2</td>\n",
       "      <td>...</td>\n",
       "      <td>4</td>\n",
       "      <td>4</td>\n",
       "      <td>1</td>\n",
       "      <td>10</td>\n",
       "      <td>3</td>\n",
       "      <td>3</td>\n",
       "      <td>10</td>\n",
       "      <td>7</td>\n",
       "      <td>1</td>\n",
       "      <td>7</td>\n",
       "    </tr>\n",
       "    <tr>\n",
       "      <th>2</th>\n",
       "      <td>37</td>\n",
       "      <td>Yes</td>\n",
       "      <td>Travel_Rarely</td>\n",
       "      <td>Research &amp; Development</td>\n",
       "      <td>2</td>\n",
       "      <td>2</td>\n",
       "      <td>Other</td>\n",
       "      <td>4</td>\n",
       "      <td>92</td>\n",
       "      <td>2</td>\n",
       "      <td>...</td>\n",
       "      <td>3</td>\n",
       "      <td>2</td>\n",
       "      <td>0</td>\n",
       "      <td>7</td>\n",
       "      <td>3</td>\n",
       "      <td>3</td>\n",
       "      <td>0</td>\n",
       "      <td>0</td>\n",
       "      <td>0</td>\n",
       "      <td>0</td>\n",
       "    </tr>\n",
       "    <tr>\n",
       "      <th>3</th>\n",
       "      <td>33</td>\n",
       "      <td>No</td>\n",
       "      <td>Travel_Frequently</td>\n",
       "      <td>Research &amp; Development</td>\n",
       "      <td>3</td>\n",
       "      <td>4</td>\n",
       "      <td>Life Sciences</td>\n",
       "      <td>4</td>\n",
       "      <td>56</td>\n",
       "      <td>3</td>\n",
       "      <td>...</td>\n",
       "      <td>3</td>\n",
       "      <td>3</td>\n",
       "      <td>0</td>\n",
       "      <td>8</td>\n",
       "      <td>3</td>\n",
       "      <td>3</td>\n",
       "      <td>8</td>\n",
       "      <td>7</td>\n",
       "      <td>3</td>\n",
       "      <td>0</td>\n",
       "    </tr>\n",
       "    <tr>\n",
       "      <th>4</th>\n",
       "      <td>27</td>\n",
       "      <td>No</td>\n",
       "      <td>Travel_Rarely</td>\n",
       "      <td>Research &amp; Development</td>\n",
       "      <td>2</td>\n",
       "      <td>1</td>\n",
       "      <td>Medical</td>\n",
       "      <td>1</td>\n",
       "      <td>40</td>\n",
       "      <td>3</td>\n",
       "      <td>...</td>\n",
       "      <td>3</td>\n",
       "      <td>4</td>\n",
       "      <td>1</td>\n",
       "      <td>6</td>\n",
       "      <td>3</td>\n",
       "      <td>3</td>\n",
       "      <td>2</td>\n",
       "      <td>2</td>\n",
       "      <td>2</td>\n",
       "      <td>2</td>\n",
       "    </tr>\n",
       "  </tbody>\n",
       "</table>\n",
       "<p>5 rows × 27 columns</p>\n",
       "</div>"
      ],
      "text/plain": [
       "   Age Attrition     BusinessTravel              Department  DistanceFromHome  \\\n",
       "0   41       Yes      Travel_Rarely                   Sales                 1   \n",
       "1   49        No  Travel_Frequently  Research & Development                 8   \n",
       "2   37       Yes      Travel_Rarely  Research & Development                 2   \n",
       "3   33        No  Travel_Frequently  Research & Development                 3   \n",
       "4   27        No      Travel_Rarely  Research & Development                 2   \n",
       "\n",
       "   Education EducationField  EnvironmentSatisfaction  HourlyRate  \\\n",
       "0          2  Life Sciences                        2          94   \n",
       "1          1  Life Sciences                        3          61   \n",
       "2          2          Other                        4          92   \n",
       "3          4  Life Sciences                        4          56   \n",
       "4          1        Medical                        1          40   \n",
       "\n",
       "   JobInvolvement  ...  PerformanceRating RelationshipSatisfaction  \\\n",
       "0               3  ...                  3                        1   \n",
       "1               2  ...                  4                        4   \n",
       "2               2  ...                  3                        2   \n",
       "3               3  ...                  3                        3   \n",
       "4               3  ...                  3                        4   \n",
       "\n",
       "   StockOptionLevel TotalWorkingYears  TrainingTimesLastYear WorkLifeBalance  \\\n",
       "0                 0                 8                      0               1   \n",
       "1                 1                10                      3               3   \n",
       "2                 0                 7                      3               3   \n",
       "3                 0                 8                      3               3   \n",
       "4                 1                 6                      3               3   \n",
       "\n",
       "   YearsAtCompany  YearsInCurrentRole  YearsSinceLastPromotion  \\\n",
       "0               6                   4                        0   \n",
       "1              10                   7                        1   \n",
       "2               0                   0                        0   \n",
       "3               8                   7                        3   \n",
       "4               2                   2                        2   \n",
       "\n",
       "   YearsWithCurrManager  \n",
       "0                     5  \n",
       "1                     7  \n",
       "2                     0  \n",
       "3                     0  \n",
       "4                     2  \n",
       "\n",
       "[5 rows x 27 columns]"
      ]
     },
     "execution_count": 7,
     "metadata": {},
     "output_type": "execute_result"
    }
   ],
   "source": [
    "# Import our dependencies\n",
    "from sklearn.model_selection import train_test_split\n",
    "from sklearn.preprocessing import StandardScaler\n",
    "import pandas as pd\n",
    "import numpy as np \n",
    "import tensorflow as tf  \n",
    "from tensorflow.keras.models import Model \n",
    "from tensorflow.keras import layers\n",
    "\n",
    "#  Import and read the attrition data\n",
    "attrition_df = pd.read_csv('https://static.bc-edx.com/ai/ail-v-1-0/m19/lms/datasets/attrition.csv')\n",
    "attrition_df.head()"
   ]
  },
  {
   "cell_type": "code",
   "execution_count": 8,
   "metadata": {
    "colab": {
     "base_uri": "https://localhost:8080/",
     "height": 325
    },
    "executionInfo": {
     "elapsed": 12323,
     "status": "ok",
     "timestamp": 1730699226906,
     "user": {
      "displayName": "Alexander Booth",
      "userId": "02269714993535573104"
     },
     "user_tz": 360
    },
    "id": "6eDUJ4NtGc3P",
    "outputId": "eeae54b5-3d17-442d-94ba-00dd55b89964"
   },
   "outputs": [
    {
     "data": {
      "text/plain": [
       "Age                         43\n",
       "Attrition                    2\n",
       "BusinessTravel               3\n",
       "Department                   3\n",
       "DistanceFromHome            29\n",
       "Education                    5\n",
       "EducationField               6\n",
       "EnvironmentSatisfaction      4\n",
       "HourlyRate                  71\n",
       "JobInvolvement               4\n",
       "JobLevel                     5\n",
       "JobRole                      9\n",
       "JobSatisfaction              4\n",
       "MaritalStatus                3\n",
       "NumCompaniesWorked          10\n",
       "OverTime                     2\n",
       "PercentSalaryHike           15\n",
       "PerformanceRating            2\n",
       "RelationshipSatisfaction     4\n",
       "StockOptionLevel             4\n",
       "TotalWorkingYears           40\n",
       "TrainingTimesLastYear        7\n",
       "WorkLifeBalance              4\n",
       "YearsAtCompany              37\n",
       "YearsInCurrentRole          19\n",
       "YearsSinceLastPromotion     16\n",
       "YearsWithCurrManager        18\n",
       "dtype: int64"
      ]
     },
     "execution_count": 8,
     "metadata": {},
     "output_type": "execute_result"
    }
   ],
   "source": [
    "# Determine the number of unique values in each column\n",
    "attrition_df.nunique()"
   ]
  },
  {
   "cell_type": "code",
   "execution_count": 10,
   "metadata": {
    "executionInfo": {
     "elapsed": 7,
     "status": "ok",
     "timestamp": 1730699226906,
     "user": {
      "displayName": "Alexander Booth",
      "userId": "02269714993535573104"
     },
     "user_tz": 360
    },
    "id": "50vMgBEnJbfM"
   },
   "outputs": [],
   "source": [
    "# Create y_df with the Attrition and Department columns\n",
    "y_df = attrition_df[['Attrition', 'Department']]"
   ]
  },
  {
   "cell_type": "code",
   "execution_count": 11,
   "metadata": {},
   "outputs": [
    {
     "name": "stdout",
     "output_type": "stream",
     "text": [
      "Age                         int64\n",
      "BusinessTravel             object\n",
      "Department                 object\n",
      "DistanceFromHome            int64\n",
      "Education                   int64\n",
      "EducationField             object\n",
      "EnvironmentSatisfaction     int64\n",
      "HourlyRate                  int64\n",
      "JobInvolvement              int64\n",
      "JobLevel                    int64\n",
      "dtype: object\n"
     ]
    }
   ],
   "source": [
    "# Create a list of at least 10 column names to use as X data\n",
    "x_columns = [\n",
    "    'Age',\n",
    "    'BusinessTravel',\n",
    "    'Department',\n",
    "    'DistanceFromHome',\n",
    "    'Education',\n",
    "    'EducationField',\n",
    "    'EnvironmentSatisfaction',\n",
    "    'HourlyRate',\n",
    "    'JobInvolvement',\n",
    "    'JobLevel'\n",
    "]\n",
    "\n",
    "\n",
    "# Create X_df using your selected columns\n",
    "X_df = attrition_df[x_columns]\n",
    "\n",
    "\n",
    "# Show the data types for X_df\n",
    "print(X_df.dtypes)"
   ]
  },
  {
   "cell_type": "code",
   "execution_count": 17,
   "metadata": {
    "executionInfo": {
     "elapsed": 9,
     "status": "ok",
     "timestamp": 1730699227025,
     "user": {
      "displayName": "Alexander Booth",
      "userId": "02269714993535573104"
     },
     "user_tz": 360
    },
    "id": "KaJfdOGUMHMR"
   },
   "outputs": [],
   "source": [
    "# Split the data into training and testing sets\n",
    "from sklearn.model_selection import train_test_split\n",
    "\n",
    "y = y_df['Attrition']\n",
    "X_train, X_test, y_train, y_test = train_test_split(\n",
    "    X_numeric, y, test_size=0.2, random_state=42, stratify=y\n",
    ")\n",
    "\n"
   ]
  },
  {
   "cell_type": "code",
   "execution_count": 18,
   "metadata": {
    "colab": {
     "base_uri": "https://localhost:8080/",
     "height": 178
    },
    "executionInfo": {
     "elapsed": 8,
     "status": "ok",
     "timestamp": 1730699227025,
     "user": {
      "displayName": "Alexander Booth",
      "userId": "02269714993535573104"
     },
     "user_tz": 360
    },
    "id": "NYubUJqiLCSp",
    "outputId": "6116187c-4afa-4d4a-aeb9-fdc2131d0d58"
   },
   "outputs": [
    {
     "name": "stdout",
     "output_type": "stream",
     "text": [
      "   Age  DistanceFromHome  Education  EnvironmentSatisfaction  HourlyRate  \\\n",
      "0   41                 1          2                        2          94   \n",
      "1   49                 8          1                        3          61   \n",
      "2   37                 2          2                        4          92   \n",
      "3   33                 3          4                        4          56   \n",
      "4   27                 2          1                        1          40   \n",
      "\n",
      "   JobInvolvement  JobLevel  BusinessTravel_Travel_Frequently  \\\n",
      "0               3         2                             False   \n",
      "1               2         2                              True   \n",
      "2               2         1                             False   \n",
      "3               3         1                              True   \n",
      "4               3         1                             False   \n",
      "\n",
      "   BusinessTravel_Travel_Rarely  Department_Research & Development  \\\n",
      "0                          True                              False   \n",
      "1                         False                               True   \n",
      "2                          True                               True   \n",
      "3                         False                               True   \n",
      "4                          True                               True   \n",
      "\n",
      "   Department_Sales  EducationField_Life Sciences  EducationField_Marketing  \\\n",
      "0              True                          True                     False   \n",
      "1             False                          True                     False   \n",
      "2             False                         False                     False   \n",
      "3             False                          True                     False   \n",
      "4             False                         False                     False   \n",
      "\n",
      "   EducationField_Medical  EducationField_Other  \\\n",
      "0                   False                 False   \n",
      "1                   False                 False   \n",
      "2                   False                  True   \n",
      "3                   False                 False   \n",
      "4                    True                 False   \n",
      "\n",
      "   EducationField_Technical Degree  \n",
      "0                            False  \n",
      "1                            False  \n",
      "2                            False  \n",
      "3                            False  \n",
      "4                            False  \n",
      "Age                                  int64\n",
      "DistanceFromHome                     int64\n",
      "Education                            int64\n",
      "EnvironmentSatisfaction              int64\n",
      "HourlyRate                           int64\n",
      "JobInvolvement                       int64\n",
      "JobLevel                             int64\n",
      "BusinessTravel_Travel_Frequently      bool\n",
      "BusinessTravel_Travel_Rarely          bool\n",
      "Department_Research & Development     bool\n",
      "Department_Sales                      bool\n",
      "EducationField_Life Sciences          bool\n",
      "EducationField_Marketing              bool\n",
      "EducationField_Medical                bool\n",
      "EducationField_Other                  bool\n",
      "EducationField_Technical Degree       bool\n",
      "dtype: object\n"
     ]
    }
   ],
   "source": [
    "# Convert your X data to numeric data types however you see fit\n",
    "# Add new code cells as necessary\n",
    "X_numeric = pd.get_dummies(X_df, drop_first=True)\n",
    "print(X_numeric.head())\n",
    "print(X_numeric.dtypes)"
   ]
  },
  {
   "cell_type": "code",
   "execution_count": 21,
   "metadata": {
    "executionInfo": {
     "elapsed": 6,
     "status": "ok",
     "timestamp": 1730699227162,
     "user": {
      "displayName": "Alexander Booth",
      "userId": "02269714993535573104"
     },
     "user_tz": 360
    },
    "id": "EWA-aIA5Gc3T"
   },
   "outputs": [
    {
     "name": "stdout",
     "output_type": "stream",
     "text": [
      "           Age  DistanceFromHome  Education  EnvironmentSatisfaction  \\\n",
      "1194  1.090194         -0.899915   1.064209                -0.658710   \n",
      "128  -1.634828         -0.899915  -1.855332                 0.260202   \n",
      "810   0.981193         -0.777610  -1.855332                -1.577622   \n",
      "478  -1.307825          0.445433  -1.855332                -0.658710   \n",
      "491   0.654191         -0.043784   2.037390                 1.179114   \n",
      "\n",
      "      HourlyRate  JobInvolvement  JobLevel  BusinessTravel_Travel_Frequently  \\\n",
      "1194   -0.908436        1.795282  1.762189                         -0.486408   \n",
      "128     1.694111        0.373564 -0.986265                         -0.486408   \n",
      "810    -0.662913        0.373564  1.762189                         -0.486408   \n",
      "478    -1.252169        0.373564 -0.986265                         -0.486408   \n",
      "491     0.319180        0.373564 -0.070114                          2.055886   \n",
      "\n",
      "      BusinessTravel_Travel_Rarely  Department_Research & Development  \\\n",
      "1194                      0.648298                          -1.361752   \n",
      "128                       0.648298                           0.734348   \n",
      "810                       0.648298                          -1.361752   \n",
      "478                       0.648298                          -1.361752   \n",
      "491                      -1.542501                           0.734348   \n",
      "\n",
      "      Department_Sales  EducationField_Life Sciences  \\\n",
      "1194          1.493576                      1.206281   \n",
      "128          -0.669534                     -0.828994   \n",
      "810           1.493576                     -0.828994   \n",
      "478           1.493576                     -0.828994   \n",
      "491          -0.669534                     -0.828994   \n",
      "\n",
      "      EducationField_Marketing  EducationField_Medical  EducationField_Other  \\\n",
      "1194                 -0.358607               -0.669534             -0.235914   \n",
      "128                  -0.358607               -0.669534             -0.235914   \n",
      "810                   2.788569               -0.669534             -0.235914   \n",
      "478                  -0.358607                1.493576             -0.235914   \n",
      "491                  -0.358607                1.493576             -0.235914   \n",
      "\n",
      "      EducationField_Technical Degree  \n",
      "1194                        -0.329224  \n",
      "128                          3.037447  \n",
      "810                         -0.329224  \n",
      "478                         -0.329224  \n",
      "491                         -0.329224  \n"
     ]
    }
   ],
   "source": [
    "# Create a StandardScaler\n",
    "scaler = StandardScaler()\n",
    "\n",
    "# Fit the StandardScaler to the training data\n",
    "scaler.fit(X_train)\n",
    "\n",
    "# Scale the training and testing data\n",
    "X_train_scaled = scaler.transform(X_train)\n",
    "X_test_scaled = scaler.transform(X_test)\n",
    "\n",
    "X_train_scaled_df = pd.DataFrame(X_train_scaled, columns=X_train.columns, index=X_train.index)\n",
    "X_test_scaled_df = pd.DataFrame(X_test_scaled, columns=X_test.columns, index=X_test.index)\n",
    "\n",
    "print(X_train_scaled_df.head())\n",
    "\n"
   ]
  },
  {
   "cell_type": "code",
   "execution_count": 28,
   "metadata": {},
   "outputs": [
    {
     "name": "stdout",
     "output_type": "stream",
     "text": [
      "[[0. 0. 1.]\n",
      " [0. 1. 0.]\n",
      " [0. 0. 1.]\n",
      " ...\n",
      " [0. 1. 0.]\n",
      " [0. 1. 0.]\n",
      " [0. 0. 1.]]\n"
     ]
    }
   ],
   "source": [
    "from sklearn.preprocessing import OneHotEncoder\n",
    "\n",
    "X_train, X_test, y_train, y_test = train_test_split(\n",
    "    X_numeric, y, test_size=0.2, random_state=42, stratify=y\n",
    ")\n",
    "\n",
    "dept_train = X_df.loc[X_train.index, ['Department']]\n",
    "dept_test = X_df.loc[X_test.index, ['Department']]\n",
    "\n",
    "# Create a OneHotEncoder for the Department column\n",
    "dept_encoder = OneHotEncoder(sparse_output=False, handle_unknown='ignore')\n",
    "\n",
    "# Fit the encoder to the training data\n",
    "dept_encoder.fit(dept_train)\n",
    "\n",
    "# Create two new variables by applying the encoder\n",
    "# to the training and testing data\n",
    "X_train_dept_encoded = dept_encoder.transform(dept_train)\n",
    "X_test_dept_encoded = dept_encoder.transform(dept_test) \n",
    "\n",
    "\n",
    "print(X_train_dept_encoded)"
   ]
  },
  {
   "cell_type": "code",
   "execution_count": 30,
   "metadata": {
    "colab": {
     "base_uri": "https://localhost:8080/"
    },
    "executionInfo": {
     "elapsed": 5,
     "status": "ok",
     "timestamp": 1730699227257,
     "user": {
      "displayName": "Alexander Booth",
      "userId": "02269714993535573104"
     },
     "user_tz": 360
    },
    "id": "-G4DSpvFRrk4",
    "outputId": "1821049e-a4f0-437f-b8a7-e415431fbdb0"
   },
   "outputs": [
    {
     "name": "stdout",
     "output_type": "stream",
     "text": [
      "[[1. 0.]\n",
      " [1. 0.]\n",
      " [1. 0.]\n",
      " ...\n",
      " [1. 0.]\n",
      " [1. 0.]\n",
      " [1. 0.]]\n"
     ]
    }
   ],
   "source": [
    "# Create a OneHotEncoder for the Attrition column\n",
    "attrition_encoder = OneHotEncoder(sparse_output=False, handle_unknown='ignore')\n",
    "\n",
    "# Fit the encoder to the training data\n",
    "attrition_encoder.fit(y_train.values.reshape(-1, 1))\n",
    "\n",
    "# Create two new variables by applying the encoder\n",
    "# to the training and testing data\n",
    "y_train_attrition_encoded = attrition_encoder.transform(y_train.values.reshape(-1, 1))\n",
    "y_test_attrition_encoded = attrition_encoder.transform(y_test.values.reshape(-1, 1))\n",
    "\n",
    "print(y_train_attrition_encoded)"
   ]
  },
  {
   "cell_type": "markdown",
   "metadata": {
    "id": "ykNmu_WWGc3T"
   },
   "source": [
    "## Part 2: Create, Compile, and Train the Model"
   ]
  },
  {
   "cell_type": "code",
   "execution_count": 32,
   "metadata": {
    "executionInfo": {
     "elapsed": 309,
     "status": "ok",
     "timestamp": 1730699227563,
     "user": {
      "displayName": "Alexander Booth",
      "userId": "02269714993535573104"
     },
     "user_tz": 360
    },
    "id": "WUptZqmSGc3T"
   },
   "outputs": [
    {
     "name": "stdout",
     "output_type": "stream",
     "text": [
      "Number of columns in X training data: 16\n"
     ]
    }
   ],
   "source": [
    "from tensorflow.keras.layers import Input, Dense\n",
    "\n",
    "# Find the number of columns in the X training data.\n",
    "input_dim = X_train_scaled_df.shape[1]\n",
    "print(\"Number of columns in X training data:\", input_dim)\n",
    "\n",
    "# Create the input layer\n",
    "input_layer = Input(shape=(input_dim,))\n",
    "\n",
    "# Create at least two shared layers\n",
    "shared_layer_1 = Dense(64, activation='relu')(input_layer)\n",
    "shared_layer_2 = Dense(32, activation='relu')(shared_layer_1)"
   ]
  },
  {
   "cell_type": "code",
   "execution_count": 33,
   "metadata": {
    "executionInfo": {
     "elapsed": 118,
     "status": "ok",
     "timestamp": 1730699227678,
     "user": {
      "displayName": "Alexander Booth",
      "userId": "02269714993535573104"
     },
     "user_tz": 360
    },
    "id": "JukjTm2yTEqd"
   },
   "outputs": [],
   "source": [
    "# Create a branch for Department\n",
    "# with a hidden layer and an output layer\n",
    "dept_hidden = Dense(16, activation='relu', name='dept_hidden')(shared_layer_2)\n",
    "\n",
    "# Create the hidden layer\n",
    "# Create the output layer\n",
    "dept_output = Dense(3, activation='softmax', name='dept_output')(dept_hidden)\n",
    "\n"
   ]
  },
  {
   "cell_type": "code",
   "execution_count": 34,
   "metadata": {
    "executionInfo": {
     "elapsed": 9,
     "status": "ok",
     "timestamp": 1730699227679,
     "user": {
      "displayName": "Alexander Booth",
      "userId": "02269714993535573104"
     },
     "user_tz": 360
    },
    "id": "9OqhUiOJUBkR"
   },
   "outputs": [],
   "source": [
    "# Create a branch for Attrition\n",
    "# with a hidden layer and an output layer\n",
    "attrition_hidden = Dense(16, activation='relu', name='attrition_hidden')(shared_layer_2)\n",
    "\n",
    "# Create the hidden layer\n",
    "# Create the output layer\n",
    "attrition_output = Dense(1, activation='sigmoid', name='attrition_output')(attrition_hidden)\n",
    "\n"
   ]
  },
  {
   "cell_type": "code",
   "execution_count": 35,
   "metadata": {},
   "outputs": [
    {
     "data": {
      "text/html": [
       "<pre style=\"white-space:pre;overflow-x:auto;line-height:normal;font-family:Menlo,'DejaVu Sans Mono',consolas,'Courier New',monospace\"><span style=\"font-weight: bold\">Model: \"functional\"</span>\n",
       "</pre>\n"
      ],
      "text/plain": [
       "\u001b[1mModel: \"functional\"\u001b[0m\n"
      ]
     },
     "metadata": {},
     "output_type": "display_data"
    },
    {
     "data": {
      "text/html": [
       "<pre style=\"white-space:pre;overflow-x:auto;line-height:normal;font-family:Menlo,'DejaVu Sans Mono',consolas,'Courier New',monospace\">┏━━━━━━━━━━━━━━━━━━━━━┳━━━━━━━━━━━━━━━━━━━┳━━━━━━━━━━━━┳━━━━━━━━━━━━━━━━━━━┓\n",
       "┃<span style=\"font-weight: bold\"> Layer (type)        </span>┃<span style=\"font-weight: bold\"> Output Shape      </span>┃<span style=\"font-weight: bold\">    Param # </span>┃<span style=\"font-weight: bold\"> Connected to      </span>┃\n",
       "┡━━━━━━━━━━━━━━━━━━━━━╇━━━━━━━━━━━━━━━━━━━╇━━━━━━━━━━━━╇━━━━━━━━━━━━━━━━━━━┩\n",
       "│ input_layer         │ (<span style=\"color: #00d7ff; text-decoration-color: #00d7ff\">None</span>, <span style=\"color: #00af00; text-decoration-color: #00af00\">16</span>)        │          <span style=\"color: #00af00; text-decoration-color: #00af00\">0</span> │ -                 │\n",
       "│ (<span style=\"color: #0087ff; text-decoration-color: #0087ff\">InputLayer</span>)        │                   │            │                   │\n",
       "├─────────────────────┼───────────────────┼────────────┼───────────────────┤\n",
       "│ dense (<span style=\"color: #0087ff; text-decoration-color: #0087ff\">Dense</span>)       │ (<span style=\"color: #00d7ff; text-decoration-color: #00d7ff\">None</span>, <span style=\"color: #00af00; text-decoration-color: #00af00\">64</span>)        │      <span style=\"color: #00af00; text-decoration-color: #00af00\">1,088</span> │ input_layer[<span style=\"color: #00af00; text-decoration-color: #00af00\">0</span>][<span style=\"color: #00af00; text-decoration-color: #00af00\">0</span>] │\n",
       "├─────────────────────┼───────────────────┼────────────┼───────────────────┤\n",
       "│ dense_1 (<span style=\"color: #0087ff; text-decoration-color: #0087ff\">Dense</span>)     │ (<span style=\"color: #00d7ff; text-decoration-color: #00d7ff\">None</span>, <span style=\"color: #00af00; text-decoration-color: #00af00\">32</span>)        │      <span style=\"color: #00af00; text-decoration-color: #00af00\">2,080</span> │ dense[<span style=\"color: #00af00; text-decoration-color: #00af00\">0</span>][<span style=\"color: #00af00; text-decoration-color: #00af00\">0</span>]       │\n",
       "├─────────────────────┼───────────────────┼────────────┼───────────────────┤\n",
       "│ dept_hidden (<span style=\"color: #0087ff; text-decoration-color: #0087ff\">Dense</span>) │ (<span style=\"color: #00d7ff; text-decoration-color: #00d7ff\">None</span>, <span style=\"color: #00af00; text-decoration-color: #00af00\">16</span>)        │        <span style=\"color: #00af00; text-decoration-color: #00af00\">528</span> │ dense_1[<span style=\"color: #00af00; text-decoration-color: #00af00\">0</span>][<span style=\"color: #00af00; text-decoration-color: #00af00\">0</span>]     │\n",
       "├─────────────────────┼───────────────────┼────────────┼───────────────────┤\n",
       "│ attrition_hidden    │ (<span style=\"color: #00d7ff; text-decoration-color: #00d7ff\">None</span>, <span style=\"color: #00af00; text-decoration-color: #00af00\">16</span>)        │        <span style=\"color: #00af00; text-decoration-color: #00af00\">528</span> │ dense_1[<span style=\"color: #00af00; text-decoration-color: #00af00\">0</span>][<span style=\"color: #00af00; text-decoration-color: #00af00\">0</span>]     │\n",
       "│ (<span style=\"color: #0087ff; text-decoration-color: #0087ff\">Dense</span>)             │                   │            │                   │\n",
       "├─────────────────────┼───────────────────┼────────────┼───────────────────┤\n",
       "│ dept_output (<span style=\"color: #0087ff; text-decoration-color: #0087ff\">Dense</span>) │ (<span style=\"color: #00d7ff; text-decoration-color: #00d7ff\">None</span>, <span style=\"color: #00af00; text-decoration-color: #00af00\">3</span>)         │         <span style=\"color: #00af00; text-decoration-color: #00af00\">51</span> │ dept_hidden[<span style=\"color: #00af00; text-decoration-color: #00af00\">0</span>][<span style=\"color: #00af00; text-decoration-color: #00af00\">0</span>] │\n",
       "├─────────────────────┼───────────────────┼────────────┼───────────────────┤\n",
       "│ attrition_output    │ (<span style=\"color: #00d7ff; text-decoration-color: #00d7ff\">None</span>, <span style=\"color: #00af00; text-decoration-color: #00af00\">1</span>)         │         <span style=\"color: #00af00; text-decoration-color: #00af00\">17</span> │ attrition_hidden… │\n",
       "│ (<span style=\"color: #0087ff; text-decoration-color: #0087ff\">Dense</span>)             │                   │            │                   │\n",
       "└─────────────────────┴───────────────────┴────────────┴───────────────────┘\n",
       "</pre>\n"
      ],
      "text/plain": [
       "┏━━━━━━━━━━━━━━━━━━━━━┳━━━━━━━━━━━━━━━━━━━┳━━━━━━━━━━━━┳━━━━━━━━━━━━━━━━━━━┓\n",
       "┃\u001b[1m \u001b[0m\u001b[1mLayer (type)       \u001b[0m\u001b[1m \u001b[0m┃\u001b[1m \u001b[0m\u001b[1mOutput Shape     \u001b[0m\u001b[1m \u001b[0m┃\u001b[1m \u001b[0m\u001b[1m   Param #\u001b[0m\u001b[1m \u001b[0m┃\u001b[1m \u001b[0m\u001b[1mConnected to     \u001b[0m\u001b[1m \u001b[0m┃\n",
       "┡━━━━━━━━━━━━━━━━━━━━━╇━━━━━━━━━━━━━━━━━━━╇━━━━━━━━━━━━╇━━━━━━━━━━━━━━━━━━━┩\n",
       "│ input_layer         │ (\u001b[38;5;45mNone\u001b[0m, \u001b[38;5;34m16\u001b[0m)        │          \u001b[38;5;34m0\u001b[0m │ -                 │\n",
       "│ (\u001b[38;5;33mInputLayer\u001b[0m)        │                   │            │                   │\n",
       "├─────────────────────┼───────────────────┼────────────┼───────────────────┤\n",
       "│ dense (\u001b[38;5;33mDense\u001b[0m)       │ (\u001b[38;5;45mNone\u001b[0m, \u001b[38;5;34m64\u001b[0m)        │      \u001b[38;5;34m1,088\u001b[0m │ input_layer[\u001b[38;5;34m0\u001b[0m][\u001b[38;5;34m0\u001b[0m] │\n",
       "├─────────────────────┼───────────────────┼────────────┼───────────────────┤\n",
       "│ dense_1 (\u001b[38;5;33mDense\u001b[0m)     │ (\u001b[38;5;45mNone\u001b[0m, \u001b[38;5;34m32\u001b[0m)        │      \u001b[38;5;34m2,080\u001b[0m │ dense[\u001b[38;5;34m0\u001b[0m][\u001b[38;5;34m0\u001b[0m]       │\n",
       "├─────────────────────┼───────────────────┼────────────┼───────────────────┤\n",
       "│ dept_hidden (\u001b[38;5;33mDense\u001b[0m) │ (\u001b[38;5;45mNone\u001b[0m, \u001b[38;5;34m16\u001b[0m)        │        \u001b[38;5;34m528\u001b[0m │ dense_1[\u001b[38;5;34m0\u001b[0m][\u001b[38;5;34m0\u001b[0m]     │\n",
       "├─────────────────────┼───────────────────┼────────────┼───────────────────┤\n",
       "│ attrition_hidden    │ (\u001b[38;5;45mNone\u001b[0m, \u001b[38;5;34m16\u001b[0m)        │        \u001b[38;5;34m528\u001b[0m │ dense_1[\u001b[38;5;34m0\u001b[0m][\u001b[38;5;34m0\u001b[0m]     │\n",
       "│ (\u001b[38;5;33mDense\u001b[0m)             │                   │            │                   │\n",
       "├─────────────────────┼───────────────────┼────────────┼───────────────────┤\n",
       "│ dept_output (\u001b[38;5;33mDense\u001b[0m) │ (\u001b[38;5;45mNone\u001b[0m, \u001b[38;5;34m3\u001b[0m)         │         \u001b[38;5;34m51\u001b[0m │ dept_hidden[\u001b[38;5;34m0\u001b[0m][\u001b[38;5;34m0\u001b[0m] │\n",
       "├─────────────────────┼───────────────────┼────────────┼───────────────────┤\n",
       "│ attrition_output    │ (\u001b[38;5;45mNone\u001b[0m, \u001b[38;5;34m1\u001b[0m)         │         \u001b[38;5;34m17\u001b[0m │ attrition_hidden… │\n",
       "│ (\u001b[38;5;33mDense\u001b[0m)             │                   │            │                   │\n",
       "└─────────────────────┴───────────────────┴────────────┴───────────────────┘\n"
      ]
     },
     "metadata": {},
     "output_type": "display_data"
    },
    {
     "data": {
      "text/html": [
       "<pre style=\"white-space:pre;overflow-x:auto;line-height:normal;font-family:Menlo,'DejaVu Sans Mono',consolas,'Courier New',monospace\"><span style=\"font-weight: bold\"> Total params: </span><span style=\"color: #00af00; text-decoration-color: #00af00\">4,292</span> (16.77 KB)\n",
       "</pre>\n"
      ],
      "text/plain": [
       "\u001b[1m Total params: \u001b[0m\u001b[38;5;34m4,292\u001b[0m (16.77 KB)\n"
      ]
     },
     "metadata": {},
     "output_type": "display_data"
    },
    {
     "data": {
      "text/html": [
       "<pre style=\"white-space:pre;overflow-x:auto;line-height:normal;font-family:Menlo,'DejaVu Sans Mono',consolas,'Courier New',monospace\"><span style=\"font-weight: bold\"> Trainable params: </span><span style=\"color: #00af00; text-decoration-color: #00af00\">4,292</span> (16.77 KB)\n",
       "</pre>\n"
      ],
      "text/plain": [
       "\u001b[1m Trainable params: \u001b[0m\u001b[38;5;34m4,292\u001b[0m (16.77 KB)\n"
      ]
     },
     "metadata": {},
     "output_type": "display_data"
    },
    {
     "data": {
      "text/html": [
       "<pre style=\"white-space:pre;overflow-x:auto;line-height:normal;font-family:Menlo,'DejaVu Sans Mono',consolas,'Courier New',monospace\"><span style=\"font-weight: bold\"> Non-trainable params: </span><span style=\"color: #00af00; text-decoration-color: #00af00\">0</span> (0.00 B)\n",
       "</pre>\n"
      ],
      "text/plain": [
       "\u001b[1m Non-trainable params: \u001b[0m\u001b[38;5;34m0\u001b[0m (0.00 B)\n"
      ]
     },
     "metadata": {},
     "output_type": "display_data"
    }
   ],
   "source": [
    "# Create the model\n",
    "model = Model(inputs=input_layer, outputs=[dept_output, attrition_output])\n",
    "\n",
    "# Compile the model\n",
    "model.compile(\n",
    "    optimizer='adam',\n",
    "    loss={\n",
    "        'dept_output': 'categorical_crossentropy',\n",
    "        'attrition_output': 'binary_crossentropy'\n",
    "    },\n",
    "    metrics={\n",
    "        'dept_output': 'accuracy',\n",
    "        'attrition_output': 'accuracy'\n",
    "    }\n",
    ")\n",
    "\n",
    "# Summarize the model\n",
    "model.summary()"
   ]
  },
  {
   "cell_type": "code",
   "execution_count": null,
   "metadata": {},
   "outputs": [
    {
     "name": "stdout",
     "output_type": "stream",
     "text": [
      "Epoch 1/100\n",
      "\u001b[1m30/30\u001b[0m \u001b[32m━━━━━━━━━━━━━━━━━━━━\u001b[0m\u001b[37m\u001b[0m \u001b[1m2s\u001b[0m 14ms/step - attrition_output_accuracy: 0.6999 - attrition_output_loss: 0.6214 - dept_output_accuracy: 0.7774 - dept_output_loss: 0.8358 - loss: 1.4577 - val_attrition_output_accuracy: 0.8305 - val_attrition_output_loss: 0.4414 - val_dept_output_accuracy: 0.9619 - val_dept_output_loss: 0.4174 - val_loss: 0.8755\n",
      "Epoch 2/100\n",
      "\u001b[1m30/30\u001b[0m \u001b[32m━━━━━━━━━━━━━━━━━━━━\u001b[0m\u001b[37m\u001b[0m \u001b[1m0s\u001b[0m 4ms/step - attrition_output_accuracy: 0.8389 - attrition_output_loss: 0.4431 - dept_output_accuracy: 0.9581 - dept_output_loss: 0.3393 - loss: 0.7825 - val_attrition_output_accuracy: 0.8305 - val_attrition_output_loss: 0.4145 - val_dept_output_accuracy: 0.9619 - val_dept_output_loss: 0.1632 - val_loss: 0.5975\n",
      "Epoch 3/100\n",
      "\u001b[1m30/30\u001b[0m \u001b[32m━━━━━━━━━━━━━━━━━━━━\u001b[0m\u001b[37m\u001b[0m \u001b[1m0s\u001b[0m 4ms/step - attrition_output_accuracy: 0.8488 - attrition_output_loss: 0.4069 - dept_output_accuracy: 0.9594 - dept_output_loss: 0.1518 - loss: 0.5592 - val_attrition_output_accuracy: 0.8305 - val_attrition_output_loss: 0.4012 - val_dept_output_accuracy: 0.9619 - val_dept_output_loss: 0.1119 - val_loss: 0.5286\n",
      "Epoch 4/100\n",
      "\u001b[1m30/30\u001b[0m \u001b[32m━━━━━━━━━━━━━━━━━━━━\u001b[0m\u001b[37m\u001b[0m \u001b[1m0s\u001b[0m 4ms/step - attrition_output_accuracy: 0.8547 - attrition_output_loss: 0.3913 - dept_output_accuracy: 0.9585 - dept_output_loss: 0.1192 - loss: 0.5106 - val_attrition_output_accuracy: 0.8305 - val_attrition_output_loss: 0.3949 - val_dept_output_accuracy: 0.9619 - val_dept_output_loss: 0.0888 - val_loss: 0.4964\n",
      "Epoch 5/100\n",
      "\u001b[1m30/30\u001b[0m \u001b[32m━━━━━━━━━━━━━━━━━━━━\u001b[0m\u001b[37m\u001b[0m \u001b[1m0s\u001b[0m 4ms/step - attrition_output_accuracy: 0.8290 - attrition_output_loss: 0.4239 - dept_output_accuracy: 0.9668 - dept_output_loss: 0.0747 - loss: 0.4984 - val_attrition_output_accuracy: 0.8347 - val_attrition_output_loss: 0.3911 - val_dept_output_accuracy: 0.9619 - val_dept_output_loss: 0.0716 - val_loss: 0.4749\n",
      "Epoch 6/100\n",
      "\u001b[1m30/30\u001b[0m \u001b[32m━━━━━━━━━━━━━━━━━━━━\u001b[0m\u001b[37m\u001b[0m \u001b[1m0s\u001b[0m 4ms/step - attrition_output_accuracy: 0.8480 - attrition_output_loss: 0.3835 - dept_output_accuracy: 0.9602 - dept_output_loss: 0.0741 - loss: 0.4574 - val_attrition_output_accuracy: 0.8305 - val_attrition_output_loss: 0.3900 - val_dept_output_accuracy: 0.9661 - val_dept_output_loss: 0.0563 - val_loss: 0.4562\n",
      "Epoch 7/100\n",
      "\u001b[1m30/30\u001b[0m \u001b[32m━━━━━━━━━━━━━━━━━━━━\u001b[0m\u001b[37m\u001b[0m \u001b[1m0s\u001b[0m 5ms/step - attrition_output_accuracy: 0.8390 - attrition_output_loss: 0.4008 - dept_output_accuracy: 0.9718 - dept_output_loss: 0.0661 - loss: 0.4671 - val_attrition_output_accuracy: 0.8305 - val_attrition_output_loss: 0.3864 - val_dept_output_accuracy: 0.9788 - val_dept_output_loss: 0.0429 - val_loss: 0.4392\n",
      "Epoch 8/100\n",
      "\u001b[1m30/30\u001b[0m \u001b[32m━━━━━━━━━━━━━━━━━━━━\u001b[0m\u001b[37m\u001b[0m \u001b[1m0s\u001b[0m 4ms/step - attrition_output_accuracy: 0.8570 - attrition_output_loss: 0.3650 - dept_output_accuracy: 0.9834 - dept_output_loss: 0.0418 - loss: 0.4072 - val_attrition_output_accuracy: 0.8347 - val_attrition_output_loss: 0.3849 - val_dept_output_accuracy: 0.9915 - val_dept_output_loss: 0.0327 - val_loss: 0.4252\n",
      "Epoch 9/100\n",
      "\u001b[1m30/30\u001b[0m \u001b[32m━━━━━━━━━━━━━━━━━━━━\u001b[0m\u001b[37m\u001b[0m \u001b[1m0s\u001b[0m 4ms/step - attrition_output_accuracy: 0.8581 - attrition_output_loss: 0.3749 - dept_output_accuracy: 0.9969 - dept_output_loss: 0.0326 - loss: 0.4079 - val_attrition_output_accuracy: 0.8347 - val_attrition_output_loss: 0.3838 - val_dept_output_accuracy: 1.0000 - val_dept_output_loss: 0.0227 - val_loss: 0.4145\n",
      "Epoch 10/100\n",
      "\u001b[1m30/30\u001b[0m \u001b[32m━━━━━━━━━━━━━━━━━━━━\u001b[0m\u001b[37m\u001b[0m \u001b[1m0s\u001b[0m 4ms/step - attrition_output_accuracy: 0.8576 - attrition_output_loss: 0.3648 - dept_output_accuracy: 1.0000 - dept_output_loss: 0.0204 - loss: 0.3851 - val_attrition_output_accuracy: 0.8347 - val_attrition_output_loss: 0.3840 - val_dept_output_accuracy: 1.0000 - val_dept_output_loss: 0.0159 - val_loss: 0.4064\n",
      "Epoch 11/100\n",
      "\u001b[1m30/30\u001b[0m \u001b[32m━━━━━━━━━━━━━━━━━━━━\u001b[0m\u001b[37m\u001b[0m \u001b[1m0s\u001b[0m 4ms/step - attrition_output_accuracy: 0.8617 - attrition_output_loss: 0.3749 - dept_output_accuracy: 1.0000 - dept_output_loss: 0.0131 - loss: 0.3877 - val_attrition_output_accuracy: 0.8305 - val_attrition_output_loss: 0.3838 - val_dept_output_accuracy: 1.0000 - val_dept_output_loss: 0.0118 - val_loss: 0.4025\n",
      "Epoch 12/100\n",
      "\u001b[1m30/30\u001b[0m \u001b[32m━━━━━━━━━━━━━━━━━━━━\u001b[0m\u001b[37m\u001b[0m \u001b[1m0s\u001b[0m 4ms/step - attrition_output_accuracy: 0.8641 - attrition_output_loss: 0.3489 - dept_output_accuracy: 1.0000 - dept_output_loss: 0.0099 - loss: 0.3589 - val_attrition_output_accuracy: 0.8305 - val_attrition_output_loss: 0.3822 - val_dept_output_accuracy: 1.0000 - val_dept_output_loss: 0.0085 - val_loss: 0.3980\n",
      "Epoch 13/100\n",
      "\u001b[1m30/30\u001b[0m \u001b[32m━━━━━━━━━━━━━━━━━━━━\u001b[0m\u001b[37m\u001b[0m \u001b[1m0s\u001b[0m 4ms/step - attrition_output_accuracy: 0.8630 - attrition_output_loss: 0.3535 - dept_output_accuracy: 1.0000 - dept_output_loss: 0.0062 - loss: 0.3599 - val_attrition_output_accuracy: 0.8305 - val_attrition_output_loss: 0.3858 - val_dept_output_accuracy: 1.0000 - val_dept_output_loss: 0.0064 - val_loss: 0.3997\n",
      "Epoch 14/100\n",
      "\u001b[1m30/30\u001b[0m \u001b[32m━━━━━━━━━━━━━━━━━━━━\u001b[0m\u001b[37m\u001b[0m \u001b[1m0s\u001b[0m 4ms/step - attrition_output_accuracy: 0.8569 - attrition_output_loss: 0.3527 - dept_output_accuracy: 1.0000 - dept_output_loss: 0.0044 - loss: 0.3573 - val_attrition_output_accuracy: 0.8305 - val_attrition_output_loss: 0.3844 - val_dept_output_accuracy: 1.0000 - val_dept_output_loss: 0.0050 - val_loss: 0.3972\n",
      "Epoch 15/100\n",
      "\u001b[1m30/30\u001b[0m \u001b[32m━━━━━━━━━━━━━━━━━━━━\u001b[0m\u001b[37m\u001b[0m \u001b[1m0s\u001b[0m 5ms/step - attrition_output_accuracy: 0.8831 - attrition_output_loss: 0.3205 - dept_output_accuracy: 1.0000 - dept_output_loss: 0.0044 - loss: 0.3245 - val_attrition_output_accuracy: 0.8305 - val_attrition_output_loss: 0.3859 - val_dept_output_accuracy: 1.0000 - val_dept_output_loss: 0.0040 - val_loss: 0.3973\n",
      "Epoch 16/100\n",
      "\u001b[1m30/30\u001b[0m \u001b[32m━━━━━━━━━━━━━━━━━━━━\u001b[0m\u001b[37m\u001b[0m \u001b[1m0s\u001b[0m 4ms/step - attrition_output_accuracy: 0.8690 - attrition_output_loss: 0.3621 - dept_output_accuracy: 1.0000 - dept_output_loss: 0.0032 - loss: 0.3653 - val_attrition_output_accuracy: 0.8263 - val_attrition_output_loss: 0.3920 - val_dept_output_accuracy: 1.0000 - val_dept_output_loss: 0.0034 - val_loss: 0.4043\n",
      "Epoch 17/100\n",
      "\u001b[1m30/30\u001b[0m \u001b[32m━━━━━━━━━━━━━━━━━━━━\u001b[0m\u001b[37m\u001b[0m \u001b[1m0s\u001b[0m 4ms/step - attrition_output_accuracy: 0.8638 - attrition_output_loss: 0.3409 - dept_output_accuracy: 1.0000 - dept_output_loss: 0.0025 - loss: 0.3433 - val_attrition_output_accuracy: 0.8390 - val_attrition_output_loss: 0.3878 - val_dept_output_accuracy: 1.0000 - val_dept_output_loss: 0.0030 - val_loss: 0.3973\n",
      "Epoch 18/100\n",
      "\u001b[1m30/30\u001b[0m \u001b[32m━━━━━━━━━━━━━━━━━━━━\u001b[0m\u001b[37m\u001b[0m \u001b[1m0s\u001b[0m 4ms/step - attrition_output_accuracy: 0.8836 - attrition_output_loss: 0.3105 - dept_output_accuracy: 1.0000 - dept_output_loss: 0.0020 - loss: 0.3125 - val_attrition_output_accuracy: 0.8263 - val_attrition_output_loss: 0.3963 - val_dept_output_accuracy: 1.0000 - val_dept_output_loss: 0.0027 - val_loss: 0.4080\n",
      "Epoch 19/100\n",
      "\u001b[1m30/30\u001b[0m \u001b[32m━━━━━━━━━━━━━━━━━━━━\u001b[0m\u001b[37m\u001b[0m \u001b[1m0s\u001b[0m 4ms/step - attrition_output_accuracy: 0.8803 - attrition_output_loss: 0.3218 - dept_output_accuracy: 1.0000 - dept_output_loss: 0.0021 - loss: 0.3238 - val_attrition_output_accuracy: 0.8263 - val_attrition_output_loss: 0.3981 - val_dept_output_accuracy: 1.0000 - val_dept_output_loss: 0.0024 - val_loss: 0.4092\n",
      "Epoch 20/100\n",
      "\u001b[1m30/30\u001b[0m \u001b[32m━━━━━━━━━━━━━━━━━━━━\u001b[0m\u001b[37m\u001b[0m \u001b[1m0s\u001b[0m 4ms/step - attrition_output_accuracy: 0.8738 - attrition_output_loss: 0.3202 - dept_output_accuracy: 1.0000 - dept_output_loss: 0.0018 - loss: 0.3223 - val_attrition_output_accuracy: 0.8347 - val_attrition_output_loss: 0.3975 - val_dept_output_accuracy: 1.0000 - val_dept_output_loss: 0.0022 - val_loss: 0.4078\n",
      "Epoch 21/100\n",
      "\u001b[1m30/30\u001b[0m \u001b[32m━━━━━━━━━━━━━━━━━━━━\u001b[0m\u001b[37m\u001b[0m \u001b[1m0s\u001b[0m 4ms/step - attrition_output_accuracy: 0.8759 - attrition_output_loss: 0.3306 - dept_output_accuracy: 1.0000 - dept_output_loss: 0.0015 - loss: 0.3320 - val_attrition_output_accuracy: 0.8347 - val_attrition_output_loss: 0.3965 - val_dept_output_accuracy: 1.0000 - val_dept_output_loss: 0.0020 - val_loss: 0.4061\n",
      "Epoch 22/100\n",
      "\u001b[1m30/30\u001b[0m \u001b[32m━━━━━━━━━━━━━━━━━━━━\u001b[0m\u001b[37m\u001b[0m \u001b[1m0s\u001b[0m 4ms/step - attrition_output_accuracy: 0.8807 - attrition_output_loss: 0.3262 - dept_output_accuracy: 1.0000 - dept_output_loss: 0.0013 - loss: 0.3274 - val_attrition_output_accuracy: 0.8305 - val_attrition_output_loss: 0.4083 - val_dept_output_accuracy: 1.0000 - val_dept_output_loss: 0.0017 - val_loss: 0.4199\n",
      "Epoch 23/100\n",
      "\u001b[1m30/30\u001b[0m \u001b[32m━━━━━━━━━━━━━━━━━━━━\u001b[0m\u001b[37m\u001b[0m \u001b[1m0s\u001b[0m 4ms/step - attrition_output_accuracy: 0.8733 - attrition_output_loss: 0.3183 - dept_output_accuracy: 1.0000 - dept_output_loss: 0.0012 - loss: 0.3196 - val_attrition_output_accuracy: 0.8263 - val_attrition_output_loss: 0.4080 - val_dept_output_accuracy: 1.0000 - val_dept_output_loss: 0.0016 - val_loss: 0.4199\n",
      "Epoch 24/100\n",
      "\u001b[1m30/30\u001b[0m \u001b[32m━━━━━━━━━━━━━━━━━━━━\u001b[0m\u001b[37m\u001b[0m \u001b[1m0s\u001b[0m 6ms/step - attrition_output_accuracy: 0.8872 - attrition_output_loss: 0.3049 - dept_output_accuracy: 1.0000 - dept_output_loss: 0.0010 - loss: 0.3059 - val_attrition_output_accuracy: 0.8475 - val_attrition_output_loss: 0.4021 - val_dept_output_accuracy: 1.0000 - val_dept_output_loss: 0.0016 - val_loss: 0.4119\n",
      "Epoch 25/100\n",
      "\u001b[1m30/30\u001b[0m \u001b[32m━━━━━━━━━━━━━━━━━━━━\u001b[0m\u001b[37m\u001b[0m \u001b[1m0s\u001b[0m 4ms/step - attrition_output_accuracy: 0.8714 - attrition_output_loss: 0.3333 - dept_output_accuracy: 1.0000 - dept_output_loss: 0.0013 - loss: 0.3348 - val_attrition_output_accuracy: 0.8390 - val_attrition_output_loss: 0.4093 - val_dept_output_accuracy: 1.0000 - val_dept_output_loss: 0.0015 - val_loss: 0.4198\n",
      "Epoch 26/100\n",
      "\u001b[1m30/30\u001b[0m \u001b[32m━━━━━━━━━━━━━━━━━━━━\u001b[0m\u001b[37m\u001b[0m \u001b[1m0s\u001b[0m 4ms/step - attrition_output_accuracy: 0.8826 - attrition_output_loss: 0.2894 - dept_output_accuracy: 1.0000 - dept_output_loss: 0.0010 - loss: 0.2904 - val_attrition_output_accuracy: 0.8347 - val_attrition_output_loss: 0.4207 - val_dept_output_accuracy: 1.0000 - val_dept_output_loss: 0.0013 - val_loss: 0.4318\n",
      "Epoch 27/100\n",
      "\u001b[1m30/30\u001b[0m \u001b[32m━━━━━━━━━━━━━━━━━━━━\u001b[0m\u001b[37m\u001b[0m \u001b[1m0s\u001b[0m 4ms/step - attrition_output_accuracy: 0.8863 - attrition_output_loss: 0.2735 - dept_output_accuracy: 1.0000 - dept_output_loss: 8.1059e-04 - loss: 0.2745 - val_attrition_output_accuracy: 0.8475 - val_attrition_output_loss: 0.4193 - val_dept_output_accuracy: 1.0000 - val_dept_output_loss: 0.0013 - val_loss: 0.4296\n",
      "Epoch 28/100\n",
      "\u001b[1m30/30\u001b[0m \u001b[32m━━━━━━━━━━━━━━━━━━━━\u001b[0m\u001b[37m\u001b[0m \u001b[1m0s\u001b[0m 4ms/step - attrition_output_accuracy: 0.8964 - attrition_output_loss: 0.2504 - dept_output_accuracy: 1.0000 - dept_output_loss: 8.2950e-04 - loss: 0.2512 - val_attrition_output_accuracy: 0.8432 - val_attrition_output_loss: 0.4168 - val_dept_output_accuracy: 1.0000 - val_dept_output_loss: 0.0012 - val_loss: 0.4251\n",
      "Epoch 29/100\n",
      "\u001b[1m30/30\u001b[0m \u001b[32m━━━━━━━━━━━━━━━━━━━━\u001b[0m\u001b[37m\u001b[0m \u001b[1m0s\u001b[0m 4ms/step - attrition_output_accuracy: 0.8836 - attrition_output_loss: 0.3038 - dept_output_accuracy: 1.0000 - dept_output_loss: 6.8253e-04 - loss: 0.3047 - val_attrition_output_accuracy: 0.8305 - val_attrition_output_loss: 0.4335 - val_dept_output_accuracy: 1.0000 - val_dept_output_loss: 0.0012 - val_loss: 0.4445\n",
      "Epoch 30/100\n",
      "\u001b[1m30/30\u001b[0m \u001b[32m━━━━━━━━━━━━━━━━━━━━\u001b[0m\u001b[37m\u001b[0m \u001b[1m0s\u001b[0m 4ms/step - attrition_output_accuracy: 0.9241 - attrition_output_loss: 0.2239 - dept_output_accuracy: 1.0000 - dept_output_loss: 7.5135e-04 - loss: 0.2247 - val_attrition_output_accuracy: 0.8517 - val_attrition_output_loss: 0.4247 - val_dept_output_accuracy: 1.0000 - val_dept_output_loss: 0.0011 - val_loss: 0.4343\n",
      "Epoch 31/100\n",
      "\u001b[1m30/30\u001b[0m \u001b[32m━━━━━━━━━━━━━━━━━━━━\u001b[0m\u001b[37m\u001b[0m \u001b[1m0s\u001b[0m 4ms/step - attrition_output_accuracy: 0.8788 - attrition_output_loss: 0.2819 - dept_output_accuracy: 1.0000 - dept_output_loss: 6.3412e-04 - loss: 0.2823 - val_attrition_output_accuracy: 0.8517 - val_attrition_output_loss: 0.4355 - val_dept_output_accuracy: 1.0000 - val_dept_output_loss: 0.0011 - val_loss: 0.4472\n",
      "Epoch 32/100\n",
      "\u001b[1m30/30\u001b[0m \u001b[32m━━━━━━━━━━━━━━━━━━━━\u001b[0m\u001b[37m\u001b[0m \u001b[1m0s\u001b[0m 5ms/step - attrition_output_accuracy: 0.8942 - attrition_output_loss: 0.2620 - dept_output_accuracy: 1.0000 - dept_output_loss: 7.6644e-04 - loss: 0.2630 - val_attrition_output_accuracy: 0.8305 - val_attrition_output_loss: 0.4445 - val_dept_output_accuracy: 1.0000 - val_dept_output_loss: 0.0011 - val_loss: 0.4569\n",
      "Epoch 33/100\n",
      "\u001b[1m30/30\u001b[0m \u001b[32m━━━━━━━━━━━━━━━━━━━━\u001b[0m\u001b[37m\u001b[0m \u001b[1m0s\u001b[0m 4ms/step - attrition_output_accuracy: 0.8954 - attrition_output_loss: 0.2345 - dept_output_accuracy: 1.0000 - dept_output_loss: 6.5973e-04 - loss: 0.2352 - val_attrition_output_accuracy: 0.8390 - val_attrition_output_loss: 0.4530 - val_dept_output_accuracy: 1.0000 - val_dept_output_loss: 0.0012 - val_loss: 0.4664\n",
      "Epoch 34/100\n",
      "\u001b[1m30/30\u001b[0m \u001b[32m━━━━━━━━━━━━━━━━━━━━\u001b[0m\u001b[37m\u001b[0m \u001b[1m0s\u001b[0m 4ms/step - attrition_output_accuracy: 0.9036 - attrition_output_loss: 0.2406 - dept_output_accuracy: 1.0000 - dept_output_loss: 6.1275e-04 - loss: 0.2414 - val_attrition_output_accuracy: 0.8475 - val_attrition_output_loss: 0.4513 - val_dept_output_accuracy: 1.0000 - val_dept_output_loss: 0.0011 - val_loss: 0.4637\n",
      "Epoch 35/100\n",
      "\u001b[1m30/30\u001b[0m \u001b[32m━━━━━━━━━━━━━━━━━━━━\u001b[0m\u001b[37m\u001b[0m \u001b[1m0s\u001b[0m 4ms/step - attrition_output_accuracy: 0.9085 - attrition_output_loss: 0.2235 - dept_output_accuracy: 1.0000 - dept_output_loss: 5.4466e-04 - loss: 0.2240 - val_attrition_output_accuracy: 0.8305 - val_attrition_output_loss: 0.4598 - val_dept_output_accuracy: 1.0000 - val_dept_output_loss: 0.0012 - val_loss: 0.4721\n",
      "Epoch 36/100\n",
      "\u001b[1m30/30\u001b[0m \u001b[32m━━━━━━━━━━━━━━━━━━━━\u001b[0m\u001b[37m\u001b[0m \u001b[1m0s\u001b[0m 4ms/step - attrition_output_accuracy: 0.9189 - attrition_output_loss: 0.2182 - dept_output_accuracy: 1.0000 - dept_output_loss: 6.2843e-04 - loss: 0.2188 - val_attrition_output_accuracy: 0.8263 - val_attrition_output_loss: 0.4616 - val_dept_output_accuracy: 1.0000 - val_dept_output_loss: 0.0013 - val_loss: 0.4748\n",
      "Epoch 37/100\n",
      "\u001b[1m30/30\u001b[0m \u001b[32m━━━━━━━━━━━━━━━━━━━━\u001b[0m\u001b[37m\u001b[0m \u001b[1m0s\u001b[0m 4ms/step - attrition_output_accuracy: 0.9073 - attrition_output_loss: 0.2211 - dept_output_accuracy: 1.0000 - dept_output_loss: 5.6109e-04 - loss: 0.2218 - val_attrition_output_accuracy: 0.8220 - val_attrition_output_loss: 0.4769 - val_dept_output_accuracy: 1.0000 - val_dept_output_loss: 0.0010 - val_loss: 0.4897\n",
      "Epoch 38/100\n",
      "\u001b[1m30/30\u001b[0m \u001b[32m━━━━━━━━━━━━━━━━━━━━\u001b[0m\u001b[37m\u001b[0m \u001b[1m0s\u001b[0m 4ms/step - attrition_output_accuracy: 0.9069 - attrition_output_loss: 0.2334 - dept_output_accuracy: 1.0000 - dept_output_loss: 5.8808e-04 - loss: 0.2342 - val_attrition_output_accuracy: 0.8347 - val_attrition_output_loss: 0.4810 - val_dept_output_accuracy: 1.0000 - val_dept_output_loss: 9.5929e-04 - val_loss: 0.4962\n",
      "Epoch 39/100\n",
      "\u001b[1m30/30\u001b[0m \u001b[32m━━━━━━━━━━━━━━━━━━━━\u001b[0m\u001b[37m\u001b[0m \u001b[1m0s\u001b[0m 4ms/step - attrition_output_accuracy: 0.9008 - attrition_output_loss: 0.2216 - dept_output_accuracy: 1.0000 - dept_output_loss: 5.2558e-04 - loss: 0.2222 - val_attrition_output_accuracy: 0.8305 - val_attrition_output_loss: 0.4918 - val_dept_output_accuracy: 1.0000 - val_dept_output_loss: 0.0011 - val_loss: 0.5081\n",
      "Epoch 40/100\n",
      "\u001b[1m30/30\u001b[0m \u001b[32m━━━━━━━━━━━━━━━━━━━━\u001b[0m\u001b[37m\u001b[0m \u001b[1m0s\u001b[0m 4ms/step - attrition_output_accuracy: 0.9235 - attrition_output_loss: 0.2018 - dept_output_accuracy: 1.0000 - dept_output_loss: 5.6196e-04 - loss: 0.2025 - val_attrition_output_accuracy: 0.8432 - val_attrition_output_loss: 0.4933 - val_dept_output_accuracy: 1.0000 - val_dept_output_loss: 8.9585e-04 - val_loss: 0.5096\n",
      "Epoch 41/100\n",
      "\u001b[1m30/30\u001b[0m \u001b[32m━━━━━━━━━━━━━━━━━━━━\u001b[0m\u001b[37m\u001b[0m \u001b[1m0s\u001b[0m 5ms/step - attrition_output_accuracy: 0.9040 - attrition_output_loss: 0.2135 - dept_output_accuracy: 1.0000 - dept_output_loss: 4.3796e-04 - loss: 0.2141 - val_attrition_output_accuracy: 0.8390 - val_attrition_output_loss: 0.5092 - val_dept_output_accuracy: 1.0000 - val_dept_output_loss: 8.3806e-04 - val_loss: 0.5279\n",
      "Epoch 42/100\n",
      "\u001b[1m30/30\u001b[0m \u001b[32m━━━━━━━━━━━━━━━━━━━━\u001b[0m\u001b[37m\u001b[0m \u001b[1m0s\u001b[0m 4ms/step - attrition_output_accuracy: 0.9187 - attrition_output_loss: 0.1903 - dept_output_accuracy: 1.0000 - dept_output_loss: 3.9797e-04 - loss: 0.1906 - val_attrition_output_accuracy: 0.8347 - val_attrition_output_loss: 0.5041 - val_dept_output_accuracy: 1.0000 - val_dept_output_loss: 9.3809e-04 - val_loss: 0.5208\n",
      "Epoch 43/100\n",
      "\u001b[1m30/30\u001b[0m \u001b[32m━━━━━━━━━━━━━━━━━━━━\u001b[0m\u001b[37m\u001b[0m \u001b[1m0s\u001b[0m 4ms/step - attrition_output_accuracy: 0.9361 - attrition_output_loss: 0.1870 - dept_output_accuracy: 1.0000 - dept_output_loss: 4.9206e-04 - loss: 0.1874 - val_attrition_output_accuracy: 0.8390 - val_attrition_output_loss: 0.5404 - val_dept_output_accuracy: 1.0000 - val_dept_output_loss: 8.3115e-04 - val_loss: 0.5609\n",
      "Epoch 44/100\n",
      "\u001b[1m30/30\u001b[0m \u001b[32m━━━━━━━━━━━━━━━━━━━━\u001b[0m\u001b[37m\u001b[0m \u001b[1m0s\u001b[0m 4ms/step - attrition_output_accuracy: 0.9157 - attrition_output_loss: 0.1955 - dept_output_accuracy: 1.0000 - dept_output_loss: 3.4925e-04 - loss: 0.1960 - val_attrition_output_accuracy: 0.8390 - val_attrition_output_loss: 0.5239 - val_dept_output_accuracy: 1.0000 - val_dept_output_loss: 8.5453e-04 - val_loss: 0.5437\n",
      "Epoch 45/100\n",
      "\u001b[1m30/30\u001b[0m \u001b[32m━━━━━━━━━━━━━━━━━━━━\u001b[0m\u001b[37m\u001b[0m \u001b[1m0s\u001b[0m 4ms/step - attrition_output_accuracy: 0.9274 - attrition_output_loss: 0.1899 - dept_output_accuracy: 1.0000 - dept_output_loss: 3.9267e-04 - loss: 0.1897 - val_attrition_output_accuracy: 0.8347 - val_attrition_output_loss: 0.5554 - val_dept_output_accuracy: 1.0000 - val_dept_output_loss: 8.0311e-04 - val_loss: 0.5783\n",
      "Epoch 46/100\n",
      "\u001b[1m30/30\u001b[0m \u001b[32m━━━━━━━━━━━━━━━━━━━━\u001b[0m\u001b[37m\u001b[0m \u001b[1m0s\u001b[0m 4ms/step - attrition_output_accuracy: 0.9325 - attrition_output_loss: 0.1764 - dept_output_accuracy: 1.0000 - dept_output_loss: 4.1568e-04 - loss: 0.1769 - val_attrition_output_accuracy: 0.8517 - val_attrition_output_loss: 0.5497 - val_dept_output_accuracy: 1.0000 - val_dept_output_loss: 8.7797e-04 - val_loss: 0.5722\n",
      "Epoch 47/100\n",
      "\u001b[1m30/30\u001b[0m \u001b[32m━━━━━━━━━━━━━━━━━━━━\u001b[0m\u001b[37m\u001b[0m \u001b[1m0s\u001b[0m 4ms/step - attrition_output_accuracy: 0.9254 - attrition_output_loss: 0.1809 - dept_output_accuracy: 1.0000 - dept_output_loss: 4.5329e-04 - loss: 0.1814 - val_attrition_output_accuracy: 0.8220 - val_attrition_output_loss: 0.5623 - val_dept_output_accuracy: 1.0000 - val_dept_output_loss: 8.2841e-04 - val_loss: 0.5835\n",
      "Epoch 48/100\n",
      "\u001b[1m30/30\u001b[0m \u001b[32m━━━━━━━━━━━━━━━━━━━━\u001b[0m\u001b[37m\u001b[0m \u001b[1m0s\u001b[0m 4ms/step - attrition_output_accuracy: 0.9282 - attrition_output_loss: 0.1760 - dept_output_accuracy: 1.0000 - dept_output_loss: 3.5128e-04 - loss: 0.1765 - val_attrition_output_accuracy: 0.8347 - val_attrition_output_loss: 0.5682 - val_dept_output_accuracy: 1.0000 - val_dept_output_loss: 8.2003e-04 - val_loss: 0.5921\n",
      "Epoch 49/100\n",
      "\u001b[1m30/30\u001b[0m \u001b[32m━━━━━━━━━━━━━━━━━━━━\u001b[0m\u001b[37m\u001b[0m \u001b[1m0s\u001b[0m 6ms/step - attrition_output_accuracy: 0.9320 - attrition_output_loss: 0.1710 - dept_output_accuracy: 1.0000 - dept_output_loss: 3.3303e-04 - loss: 0.1710 - val_attrition_output_accuracy: 0.8347 - val_attrition_output_loss: 0.5862 - val_dept_output_accuracy: 1.0000 - val_dept_output_loss: 8.8460e-04 - val_loss: 0.6102\n",
      "Epoch 50/100\n",
      "\u001b[1m30/30\u001b[0m \u001b[32m━━━━━━━━━━━━━━━━━━━━\u001b[0m\u001b[37m\u001b[0m \u001b[1m0s\u001b[0m 4ms/step - attrition_output_accuracy: 0.9296 - attrition_output_loss: 0.1639 - dept_output_accuracy: 1.0000 - dept_output_loss: 3.7823e-04 - loss: 0.1644 - val_attrition_output_accuracy: 0.8178 - val_attrition_output_loss: 0.5715 - val_dept_output_accuracy: 1.0000 - val_dept_output_loss: 8.7764e-04 - val_loss: 0.5922\n",
      "Epoch 51/100\n",
      "\u001b[1m30/30\u001b[0m \u001b[32m━━━━━━━━━━━━━━━━━━━━\u001b[0m\u001b[37m\u001b[0m \u001b[1m0s\u001b[0m 4ms/step - attrition_output_accuracy: 0.9325 - attrition_output_loss: 0.1564 - dept_output_accuracy: 1.0000 - dept_output_loss: 3.4421e-04 - loss: 0.1568 - val_attrition_output_accuracy: 0.8432 - val_attrition_output_loss: 0.6039 - val_dept_output_accuracy: 1.0000 - val_dept_output_loss: 8.0537e-04 - val_loss: 0.6311\n",
      "Epoch 52/100\n",
      "\u001b[1m30/30\u001b[0m \u001b[32m━━━━━━━━━━━━━━━━━━━━\u001b[0m\u001b[37m\u001b[0m \u001b[1m0s\u001b[0m 4ms/step - attrition_output_accuracy: 0.9345 - attrition_output_loss: 0.1575 - dept_output_accuracy: 1.0000 - dept_output_loss: 3.8083e-04 - loss: 0.1579 - val_attrition_output_accuracy: 0.8347 - val_attrition_output_loss: 0.6111 - val_dept_output_accuracy: 1.0000 - val_dept_output_loss: 0.0010 - val_loss: 0.6380\n",
      "Epoch 53/100\n",
      "\u001b[1m30/30\u001b[0m \u001b[32m━━━━━━━━━━━━━━━━━━━━\u001b[0m\u001b[37m\u001b[0m \u001b[1m0s\u001b[0m 4ms/step - attrition_output_accuracy: 0.9363 - attrition_output_loss: 0.1603 - dept_output_accuracy: 1.0000 - dept_output_loss: 3.7292e-04 - loss: 0.1608 - val_attrition_output_accuracy: 0.8432 - val_attrition_output_loss: 0.6439 - val_dept_output_accuracy: 1.0000 - val_dept_output_loss: 0.0010 - val_loss: 0.6748\n",
      "Epoch 54/100\n",
      "\u001b[1m30/30\u001b[0m \u001b[32m━━━━━━━━━━━━━━━━━━━━\u001b[0m\u001b[37m\u001b[0m \u001b[1m0s\u001b[0m 4ms/step - attrition_output_accuracy: 0.9422 - attrition_output_loss: 0.1396 - dept_output_accuracy: 1.0000 - dept_output_loss: 3.0462e-04 - loss: 0.1399 - val_attrition_output_accuracy: 0.8305 - val_attrition_output_loss: 0.6374 - val_dept_output_accuracy: 1.0000 - val_dept_output_loss: 9.3188e-04 - val_loss: 0.6675\n",
      "Epoch 55/100\n",
      "\u001b[1m30/30\u001b[0m \u001b[32m━━━━━━━━━━━━━━━━━━━━\u001b[0m\u001b[37m\u001b[0m \u001b[1m0s\u001b[0m 4ms/step - attrition_output_accuracy: 0.9478 - attrition_output_loss: 0.1569 - dept_output_accuracy: 1.0000 - dept_output_loss: 3.7388e-04 - loss: 0.1571 - val_attrition_output_accuracy: 0.8305 - val_attrition_output_loss: 0.6606 - val_dept_output_accuracy: 1.0000 - val_dept_output_loss: 8.6413e-04 - val_loss: 0.6913\n",
      "Epoch 56/100\n",
      "\u001b[1m30/30\u001b[0m \u001b[32m━━━━━━━━━━━━━━━━━━━━\u001b[0m\u001b[37m\u001b[0m \u001b[1m0s\u001b[0m 4ms/step - attrition_output_accuracy: 0.9509 - attrition_output_loss: 0.1297 - dept_output_accuracy: 1.0000 - dept_output_loss: 3.2183e-04 - loss: 0.1302 - val_attrition_output_accuracy: 0.8263 - val_attrition_output_loss: 0.6648 - val_dept_output_accuracy: 1.0000 - val_dept_output_loss: 9.3818e-04 - val_loss: 0.6982\n",
      "Epoch 57/100\n",
      "\u001b[1m30/30\u001b[0m \u001b[32m━━━━━━━━━━━━━━━━━━━━\u001b[0m\u001b[37m\u001b[0m \u001b[1m0s\u001b[0m 4ms/step - attrition_output_accuracy: 0.9534 - attrition_output_loss: 0.1295 - dept_output_accuracy: 1.0000 - dept_output_loss: 2.9149e-04 - loss: 0.1298 - val_attrition_output_accuracy: 0.8305 - val_attrition_output_loss: 0.6534 - val_dept_output_accuracy: 1.0000 - val_dept_output_loss: 8.3601e-04 - val_loss: 0.6836\n",
      "Epoch 58/100\n",
      "\u001b[1m30/30\u001b[0m \u001b[32m━━━━━━━━━━━━━━━━━━━━\u001b[0m\u001b[37m\u001b[0m \u001b[1m0s\u001b[0m 4ms/step - attrition_output_accuracy: 0.9529 - attrition_output_loss: 0.1259 - dept_output_accuracy: 1.0000 - dept_output_loss: 2.7112e-04 - loss: 0.1261 - val_attrition_output_accuracy: 0.8305 - val_attrition_output_loss: 0.6857 - val_dept_output_accuracy: 1.0000 - val_dept_output_loss: 9.0506e-04 - val_loss: 0.7166\n",
      "Epoch 59/100\n",
      "\u001b[1m30/30\u001b[0m \u001b[32m━━━━━━━━━━━━━━━━━━━━\u001b[0m\u001b[37m\u001b[0m \u001b[1m0s\u001b[0m 4ms/step - attrition_output_accuracy: 0.9516 - attrition_output_loss: 0.1316 - dept_output_accuracy: 1.0000 - dept_output_loss: 2.4275e-04 - loss: 0.1319 - val_attrition_output_accuracy: 0.8305 - val_attrition_output_loss: 0.7124 - val_dept_output_accuracy: 1.0000 - val_dept_output_loss: 7.8288e-04 - val_loss: 0.7503\n",
      "Epoch 60/100\n",
      "\u001b[1m30/30\u001b[0m \u001b[32m━━━━━━━━━━━━━━━━━━━━\u001b[0m\u001b[37m\u001b[0m \u001b[1m0s\u001b[0m 4ms/step - attrition_output_accuracy: 0.9530 - attrition_output_loss: 0.1214 - dept_output_accuracy: 1.0000 - dept_output_loss: 2.1501e-04 - loss: 0.1213 - val_attrition_output_accuracy: 0.8347 - val_attrition_output_loss: 0.6871 - val_dept_output_accuracy: 1.0000 - val_dept_output_loss: 7.1568e-04 - val_loss: 0.7225\n",
      "Epoch 61/100\n",
      "\u001b[1m30/30\u001b[0m \u001b[32m━━━━━━━━━━━━━━━━━━━━\u001b[0m\u001b[37m\u001b[0m \u001b[1m0s\u001b[0m 4ms/step - attrition_output_accuracy: 0.9531 - attrition_output_loss: 0.1257 - dept_output_accuracy: 1.0000 - dept_output_loss: 2.5884e-04 - loss: 0.1261 - val_attrition_output_accuracy: 0.8220 - val_attrition_output_loss: 0.7213 - val_dept_output_accuracy: 1.0000 - val_dept_output_loss: 7.9073e-04 - val_loss: 0.7574\n",
      "Epoch 62/100\n",
      "\u001b[1m30/30\u001b[0m \u001b[32m━━━━━━━━━━━━━━━━━━━━\u001b[0m\u001b[37m\u001b[0m \u001b[1m0s\u001b[0m 6ms/step - attrition_output_accuracy: 0.9554 - attrition_output_loss: 0.1093 - dept_output_accuracy: 1.0000 - dept_output_loss: 2.4674e-04 - loss: 0.1094 - val_attrition_output_accuracy: 0.8220 - val_attrition_output_loss: 0.7178 - val_dept_output_accuracy: 1.0000 - val_dept_output_loss: 8.8722e-04 - val_loss: 0.7551\n",
      "Epoch 63/100\n",
      "\u001b[1m30/30\u001b[0m \u001b[32m━━━━━━━━━━━━━━━━━━━━\u001b[0m\u001b[37m\u001b[0m \u001b[1m0s\u001b[0m 4ms/step - attrition_output_accuracy: 0.9649 - attrition_output_loss: 0.1076 - dept_output_accuracy: 1.0000 - dept_output_loss: 2.0882e-04 - loss: 0.1078 - val_attrition_output_accuracy: 0.8263 - val_attrition_output_loss: 0.7413 - val_dept_output_accuracy: 1.0000 - val_dept_output_loss: 7.4419e-04 - val_loss: 0.7802\n",
      "Epoch 64/100\n",
      "\u001b[1m30/30\u001b[0m \u001b[32m━━━━━━━━━━━━━━━━━━━━\u001b[0m\u001b[37m\u001b[0m \u001b[1m0s\u001b[0m 4ms/step - attrition_output_accuracy: 0.9743 - attrition_output_loss: 0.1009 - dept_output_accuracy: 1.0000 - dept_output_loss: 2.2600e-04 - loss: 0.1010 - val_attrition_output_accuracy: 0.8347 - val_attrition_output_loss: 0.7704 - val_dept_output_accuracy: 1.0000 - val_dept_output_loss: 7.3195e-04 - val_loss: 0.8109\n",
      "Epoch 65/100\n",
      "\u001b[1m30/30\u001b[0m \u001b[32m━━━━━━━━━━━━━━━━━━━━\u001b[0m\u001b[37m\u001b[0m \u001b[1m0s\u001b[0m 4ms/step - attrition_output_accuracy: 0.9647 - attrition_output_loss: 0.0969 - dept_output_accuracy: 1.0000 - dept_output_loss: 2.6816e-04 - loss: 0.0971 - val_attrition_output_accuracy: 0.8305 - val_attrition_output_loss: 0.7798 - val_dept_output_accuracy: 1.0000 - val_dept_output_loss: 7.5614e-04 - val_loss: 0.8202\n",
      "Epoch 66/100\n",
      "\u001b[1m30/30\u001b[0m \u001b[32m━━━━━━━━━━━━━━━━━━━━\u001b[0m\u001b[37m\u001b[0m \u001b[1m0s\u001b[0m 4ms/step - attrition_output_accuracy: 0.9667 - attrition_output_loss: 0.1017 - dept_output_accuracy: 1.0000 - dept_output_loss: 1.7887e-04 - loss: 0.1019 - val_attrition_output_accuracy: 0.8263 - val_attrition_output_loss: 0.7870 - val_dept_output_accuracy: 1.0000 - val_dept_output_loss: 7.1682e-04 - val_loss: 0.8243\n",
      "Epoch 67/100\n",
      "\u001b[1m30/30\u001b[0m \u001b[32m━━━━━━━━━━━━━━━━━━━━\u001b[0m\u001b[37m\u001b[0m \u001b[1m0s\u001b[0m 4ms/step - attrition_output_accuracy: 0.9690 - attrition_output_loss: 0.1047 - dept_output_accuracy: 1.0000 - dept_output_loss: 2.4119e-04 - loss: 0.1050 - val_attrition_output_accuracy: 0.8220 - val_attrition_output_loss: 0.7837 - val_dept_output_accuracy: 1.0000 - val_dept_output_loss: 9.3162e-04 - val_loss: 0.8204\n",
      "Epoch 68/100\n",
      "\u001b[1m30/30\u001b[0m \u001b[32m━━━━━━━━━━━━━━━━━━━━\u001b[0m\u001b[37m\u001b[0m \u001b[1m0s\u001b[0m 4ms/step - attrition_output_accuracy: 0.9729 - attrition_output_loss: 0.0989 - dept_output_accuracy: 1.0000 - dept_output_loss: 2.5155e-04 - loss: 0.0992 - val_attrition_output_accuracy: 0.8390 - val_attrition_output_loss: 0.8073 - val_dept_output_accuracy: 1.0000 - val_dept_output_loss: 7.7965e-04 - val_loss: 0.8512\n",
      "Epoch 69/100\n",
      "\u001b[1m30/30\u001b[0m \u001b[32m━━━━━━━━━━━━━━━━━━━━\u001b[0m\u001b[37m\u001b[0m \u001b[1m0s\u001b[0m 4ms/step - attrition_output_accuracy: 0.9807 - attrition_output_loss: 0.0795 - dept_output_accuracy: 1.0000 - dept_output_loss: 1.9861e-04 - loss: 0.0798 - val_attrition_output_accuracy: 0.8305 - val_attrition_output_loss: 0.8331 - val_dept_output_accuracy: 1.0000 - val_dept_output_loss: 7.4923e-04 - val_loss: 0.8767\n",
      "Epoch 70/100\n",
      "\u001b[1m30/30\u001b[0m \u001b[32m━━━━━━━━━━━━━━━━━━━━\u001b[0m\u001b[37m\u001b[0m \u001b[1m0s\u001b[0m 4ms/step - attrition_output_accuracy: 0.9794 - attrition_output_loss: 0.0800 - dept_output_accuracy: 1.0000 - dept_output_loss: 1.4693e-04 - loss: 0.0802 - val_attrition_output_accuracy: 0.8220 - val_attrition_output_loss: 0.8373 - val_dept_output_accuracy: 1.0000 - val_dept_output_loss: 6.9983e-04 - val_loss: 0.8857\n",
      "Epoch 71/100\n",
      "\u001b[1m30/30\u001b[0m \u001b[32m━━━━━━━━━━━━━━━━━━━━\u001b[0m\u001b[37m\u001b[0m \u001b[1m0s\u001b[0m 4ms/step - attrition_output_accuracy: 0.9807 - attrition_output_loss: 0.0845 - dept_output_accuracy: 1.0000 - dept_output_loss: 1.5101e-04 - loss: 0.0847 - val_attrition_output_accuracy: 0.8263 - val_attrition_output_loss: 0.8267 - val_dept_output_accuracy: 1.0000 - val_dept_output_loss: 6.7398e-04 - val_loss: 0.8719\n",
      "Epoch 72/100\n",
      "\u001b[1m30/30\u001b[0m \u001b[32m━━━━━━━━━━━━━━━━━━━━\u001b[0m\u001b[37m\u001b[0m \u001b[1m0s\u001b[0m 5ms/step - attrition_output_accuracy: 0.9768 - attrition_output_loss: 0.0864 - dept_output_accuracy: 1.0000 - dept_output_loss: 1.5928e-04 - loss: 0.0865 - val_attrition_output_accuracy: 0.8008 - val_attrition_output_loss: 0.8614 - val_dept_output_accuracy: 1.0000 - val_dept_output_loss: 6.7260e-04 - val_loss: 0.9081\n",
      "Epoch 73/100\n",
      "\u001b[1m30/30\u001b[0m \u001b[32m━━━━━━━━━━━━━━━━━━━━\u001b[0m\u001b[37m\u001b[0m \u001b[1m0s\u001b[0m 4ms/step - attrition_output_accuracy: 0.9868 - attrition_output_loss: 0.0668 - dept_output_accuracy: 1.0000 - dept_output_loss: 1.3911e-04 - loss: 0.0668 - val_attrition_output_accuracy: 0.8305 - val_attrition_output_loss: 0.8839 - val_dept_output_accuracy: 1.0000 - val_dept_output_loss: 6.7144e-04 - val_loss: 0.9355\n",
      "Epoch 74/100\n",
      "\u001b[1m30/30\u001b[0m \u001b[32m━━━━━━━━━━━━━━━━━━━━\u001b[0m\u001b[37m\u001b[0m \u001b[1m0s\u001b[0m 4ms/step - attrition_output_accuracy: 0.9823 - attrition_output_loss: 0.0668 - dept_output_accuracy: 1.0000 - dept_output_loss: 1.4738e-04 - loss: 0.0669 - val_attrition_output_accuracy: 0.8347 - val_attrition_output_loss: 0.9182 - val_dept_output_accuracy: 1.0000 - val_dept_output_loss: 6.5510e-04 - val_loss: 0.9723\n",
      "Epoch 75/100\n",
      "\u001b[1m30/30\u001b[0m \u001b[32m━━━━━━━━━━━━━━━━━━━━\u001b[0m\u001b[37m\u001b[0m \u001b[1m0s\u001b[0m 4ms/step - attrition_output_accuracy: 0.9865 - attrition_output_loss: 0.0635 - dept_output_accuracy: 1.0000 - dept_output_loss: 1.6761e-04 - loss: 0.0636 - val_attrition_output_accuracy: 0.8263 - val_attrition_output_loss: 0.9292 - val_dept_output_accuracy: 1.0000 - val_dept_output_loss: 6.9038e-04 - val_loss: 0.9827\n",
      "Epoch 76/100\n",
      "\u001b[1m30/30\u001b[0m \u001b[32m━━━━━━━━━━━━━━━━━━━━\u001b[0m\u001b[37m\u001b[0m \u001b[1m0s\u001b[0m 4ms/step - attrition_output_accuracy: 0.9772 - attrition_output_loss: 0.0642 - dept_output_accuracy: 1.0000 - dept_output_loss: 1.1484e-04 - loss: 0.0643 - val_attrition_output_accuracy: 0.8220 - val_attrition_output_loss: 0.9309 - val_dept_output_accuracy: 1.0000 - val_dept_output_loss: 6.7631e-04 - val_loss: 0.9786\n",
      "Epoch 77/100\n",
      "\u001b[1m30/30\u001b[0m \u001b[32m━━━━━━━━━━━━━━━━━━━━\u001b[0m\u001b[37m\u001b[0m \u001b[1m0s\u001b[0m 4ms/step - attrition_output_accuracy: 0.9862 - attrition_output_loss: 0.0705 - dept_output_accuracy: 1.0000 - dept_output_loss: 1.4788e-04 - loss: 0.0706 - val_attrition_output_accuracy: 0.8178 - val_attrition_output_loss: 0.9642 - val_dept_output_accuracy: 1.0000 - val_dept_output_loss: 6.4398e-04 - val_loss: 1.0170\n",
      "Epoch 78/100\n",
      "\u001b[1m30/30\u001b[0m \u001b[32m━━━━━━━━━━━━━━━━━━━━\u001b[0m\u001b[37m\u001b[0m \u001b[1m0s\u001b[0m 4ms/step - attrition_output_accuracy: 0.9801 - attrition_output_loss: 0.0689 - dept_output_accuracy: 1.0000 - dept_output_loss: 1.2474e-04 - loss: 0.0690 - val_attrition_output_accuracy: 0.8263 - val_attrition_output_loss: 0.9609 - val_dept_output_accuracy: 1.0000 - val_dept_output_loss: 6.3781e-04 - val_loss: 1.0144\n",
      "Epoch 79/100\n",
      "\u001b[1m30/30\u001b[0m \u001b[32m━━━━━━━━━━━━━━━━━━━━\u001b[0m\u001b[37m\u001b[0m \u001b[1m0s\u001b[0m 4ms/step - attrition_output_accuracy: 0.9931 - attrition_output_loss: 0.0566 - dept_output_accuracy: 1.0000 - dept_output_loss: 1.8843e-04 - loss: 0.0568 - val_attrition_output_accuracy: 0.8220 - val_attrition_output_loss: 0.9920 - val_dept_output_accuracy: 1.0000 - val_dept_output_loss: 5.8260e-04 - val_loss: 1.0508\n",
      "Epoch 80/100\n",
      "\u001b[1m30/30\u001b[0m \u001b[32m━━━━━━━━━━━━━━━━━━━━\u001b[0m\u001b[37m\u001b[0m \u001b[1m0s\u001b[0m 6ms/step - attrition_output_accuracy: 0.9817 - attrition_output_loss: 0.0710 - dept_output_accuracy: 1.0000 - dept_output_loss: 1.8863e-04 - loss: 0.0711 - val_attrition_output_accuracy: 0.8263 - val_attrition_output_loss: 0.9883 - val_dept_output_accuracy: 1.0000 - val_dept_output_loss: 6.2089e-04 - val_loss: 1.0445\n",
      "Epoch 81/100\n",
      "\u001b[1m30/30\u001b[0m \u001b[32m━━━━━━━━━━━━━━━━━━━━\u001b[0m\u001b[37m\u001b[0m \u001b[1m0s\u001b[0m 4ms/step - attrition_output_accuracy: 0.9889 - attrition_output_loss: 0.0642 - dept_output_accuracy: 1.0000 - dept_output_loss: 1.1097e-04 - loss: 0.0643 - val_attrition_output_accuracy: 0.8305 - val_attrition_output_loss: 1.0204 - val_dept_output_accuracy: 1.0000 - val_dept_output_loss: 5.4981e-04 - val_loss: 1.0778\n",
      "Epoch 82/100\n",
      "\u001b[1m30/30\u001b[0m \u001b[32m━━━━━━━━━━━━━━━━━━━━\u001b[0m\u001b[37m\u001b[0m \u001b[1m0s\u001b[0m 4ms/step - attrition_output_accuracy: 0.9859 - attrition_output_loss: 0.0536 - dept_output_accuracy: 1.0000 - dept_output_loss: 1.2596e-04 - loss: 0.0538 - val_attrition_output_accuracy: 0.8347 - val_attrition_output_loss: 1.0672 - val_dept_output_accuracy: 1.0000 - val_dept_output_loss: 4.9338e-04 - val_loss: 1.1259\n",
      "Epoch 83/100\n",
      "\u001b[1m30/30\u001b[0m \u001b[32m━━━━━━━━━━━━━━━━━━━━\u001b[0m\u001b[37m\u001b[0m \u001b[1m0s\u001b[0m 4ms/step - attrition_output_accuracy: 0.9910 - attrition_output_loss: 0.0566 - dept_output_accuracy: 1.0000 - dept_output_loss: 1.0751e-04 - loss: 0.0566 - val_attrition_output_accuracy: 0.8220 - val_attrition_output_loss: 1.0392 - val_dept_output_accuracy: 1.0000 - val_dept_output_loss: 6.3803e-04 - val_loss: 1.0944\n",
      "Epoch 84/100\n",
      "\u001b[1m30/30\u001b[0m \u001b[32m━━━━━━━━━━━━━━━━━━━━\u001b[0m\u001b[37m\u001b[0m \u001b[1m0s\u001b[0m 4ms/step - attrition_output_accuracy: 0.9870 - attrition_output_loss: 0.0572 - dept_output_accuracy: 1.0000 - dept_output_loss: 9.4850e-05 - loss: 0.0573 - val_attrition_output_accuracy: 0.7881 - val_attrition_output_loss: 1.0499 - val_dept_output_accuracy: 1.0000 - val_dept_output_loss: 7.3324e-04 - val_loss: 1.1095\n",
      "Epoch 85/100\n",
      "\u001b[1m30/30\u001b[0m \u001b[32m━━━━━━━━━━━━━━━━━━━━\u001b[0m\u001b[37m\u001b[0m \u001b[1m0s\u001b[0m 4ms/step - attrition_output_accuracy: 0.9913 - attrition_output_loss: 0.0523 - dept_output_accuracy: 1.0000 - dept_output_loss: 1.0463e-04 - loss: 0.0524 - val_attrition_output_accuracy: 0.8263 - val_attrition_output_loss: 1.1511 - val_dept_output_accuracy: 1.0000 - val_dept_output_loss: 5.4310e-04 - val_loss: 1.2135\n",
      "Epoch 86/100\n",
      "\u001b[1m30/30\u001b[0m \u001b[32m━━━━━━━━━━━━━━━━━━━━\u001b[0m\u001b[37m\u001b[0m \u001b[1m0s\u001b[0m 4ms/step - attrition_output_accuracy: 0.9849 - attrition_output_loss: 0.0505 - dept_output_accuracy: 1.0000 - dept_output_loss: 1.1404e-04 - loss: 0.0505 - val_attrition_output_accuracy: 0.8305 - val_attrition_output_loss: 1.0987 - val_dept_output_accuracy: 1.0000 - val_dept_output_loss: 5.6183e-04 - val_loss: 1.1606\n",
      "Epoch 87/100\n",
      "\u001b[1m30/30\u001b[0m \u001b[32m━━━━━━━━━━━━━━━━━━━━\u001b[0m\u001b[37m\u001b[0m \u001b[1m0s\u001b[0m 5ms/step - attrition_output_accuracy: 0.9923 - attrition_output_loss: 0.0430 - dept_output_accuracy: 1.0000 - dept_output_loss: 9.0627e-05 - loss: 0.0431 - val_attrition_output_accuracy: 0.8008 - val_attrition_output_loss: 1.1027 - val_dept_output_accuracy: 1.0000 - val_dept_output_loss: 7.4433e-04 - val_loss: 1.1629\n",
      "Epoch 88/100\n",
      "\u001b[1m30/30\u001b[0m \u001b[32m━━━━━━━━━━━━━━━━━━━━\u001b[0m\u001b[37m\u001b[0m \u001b[1m0s\u001b[0m 4ms/step - attrition_output_accuracy: 0.9920 - attrition_output_loss: 0.0438 - dept_output_accuracy: 1.0000 - dept_output_loss: 1.3956e-04 - loss: 0.0439 - val_attrition_output_accuracy: 0.8136 - val_attrition_output_loss: 1.0941 - val_dept_output_accuracy: 1.0000 - val_dept_output_loss: 6.9458e-04 - val_loss: 1.1592\n",
      "Epoch 89/100\n",
      "\u001b[1m30/30\u001b[0m \u001b[32m━━━━━━━━━━━━━━━━━━━━\u001b[0m\u001b[37m\u001b[0m \u001b[1m0s\u001b[0m 4ms/step - attrition_output_accuracy: 0.9951 - attrition_output_loss: 0.0405 - dept_output_accuracy: 1.0000 - dept_output_loss: 9.8965e-05 - loss: 0.0406 - val_attrition_output_accuracy: 0.8093 - val_attrition_output_loss: 1.1155 - val_dept_output_accuracy: 1.0000 - val_dept_output_loss: 5.8877e-04 - val_loss: 1.1783\n",
      "Epoch 90/100\n",
      "\u001b[1m30/30\u001b[0m \u001b[32m━━━━━━━━━━━━━━━━━━━━\u001b[0m\u001b[37m\u001b[0m \u001b[1m0s\u001b[0m 4ms/step - attrition_output_accuracy: 0.9979 - attrition_output_loss: 0.0392 - dept_output_accuracy: 1.0000 - dept_output_loss: 9.1927e-05 - loss: 0.0393 - val_attrition_output_accuracy: 0.8136 - val_attrition_output_loss: 1.1326 - val_dept_output_accuracy: 1.0000 - val_dept_output_loss: 5.9772e-04 - val_loss: 1.1969\n",
      "Epoch 91/100\n",
      "\u001b[1m30/30\u001b[0m \u001b[32m━━━━━━━━━━━━━━━━━━━━\u001b[0m\u001b[37m\u001b[0m \u001b[1m0s\u001b[0m 4ms/step - attrition_output_accuracy: 0.9912 - attrition_output_loss: 0.0424 - dept_output_accuracy: 1.0000 - dept_output_loss: 7.1958e-05 - loss: 0.0426 - val_attrition_output_accuracy: 0.7966 - val_attrition_output_loss: 1.1426 - val_dept_output_accuracy: 1.0000 - val_dept_output_loss: 5.7292e-04 - val_loss: 1.2107\n",
      "Epoch 92/100\n",
      "\u001b[1m30/30\u001b[0m \u001b[32m━━━━━━━━━━━━━━━━━━━━\u001b[0m\u001b[37m\u001b[0m \u001b[1m0s\u001b[0m 4ms/step - attrition_output_accuracy: 0.9899 - attrition_output_loss: 0.0417 - dept_output_accuracy: 1.0000 - dept_output_loss: 7.3202e-05 - loss: 0.0418 - val_attrition_output_accuracy: 0.8136 - val_attrition_output_loss: 1.1712 - val_dept_output_accuracy: 1.0000 - val_dept_output_loss: 5.4753e-04 - val_loss: 1.2381\n",
      "Epoch 93/100\n",
      "\u001b[1m30/30\u001b[0m \u001b[32m━━━━━━━━━━━━━━━━━━━━\u001b[0m\u001b[37m\u001b[0m \u001b[1m0s\u001b[0m 4ms/step - attrition_output_accuracy: 0.9975 - attrition_output_loss: 0.0352 - dept_output_accuracy: 1.0000 - dept_output_loss: 9.1701e-05 - loss: 0.0351 - val_attrition_output_accuracy: 0.7924 - val_attrition_output_loss: 1.1832 - val_dept_output_accuracy: 1.0000 - val_dept_output_loss: 5.3489e-04 - val_loss: 1.2510\n",
      "Epoch 94/100\n",
      "\u001b[1m30/30\u001b[0m \u001b[32m━━━━━━━━━━━━━━━━━━━━\u001b[0m\u001b[37m\u001b[0m \u001b[1m0s\u001b[0m 5ms/step - attrition_output_accuracy: 0.9897 - attrition_output_loss: 0.0458 - dept_output_accuracy: 1.0000 - dept_output_loss: 8.7497e-05 - loss: 0.0459 - val_attrition_output_accuracy: 0.7881 - val_attrition_output_loss: 1.1662 - val_dept_output_accuracy: 1.0000 - val_dept_output_loss: 7.5369e-04 - val_loss: 1.2332\n",
      "Epoch 95/100\n",
      "\u001b[1m30/30\u001b[0m \u001b[32m━━━━━━━━━━━━━━━━━━━━\u001b[0m\u001b[37m\u001b[0m \u001b[1m0s\u001b[0m 4ms/step - attrition_output_accuracy: 0.9875 - attrition_output_loss: 0.0474 - dept_output_accuracy: 1.0000 - dept_output_loss: 8.8374e-05 - loss: 0.0476 - val_attrition_output_accuracy: 0.8051 - val_attrition_output_loss: 1.1493 - val_dept_output_accuracy: 1.0000 - val_dept_output_loss: 7.6181e-04 - val_loss: 1.2137\n",
      "Epoch 96/100\n",
      "\u001b[1m30/30\u001b[0m \u001b[32m━━━━━━━━━━━━━━━━━━━━\u001b[0m\u001b[37m\u001b[0m \u001b[1m0s\u001b[0m 4ms/step - attrition_output_accuracy: 0.9948 - attrition_output_loss: 0.0345 - dept_output_accuracy: 1.0000 - dept_output_loss: 9.4361e-05 - loss: 0.0346 - val_attrition_output_accuracy: 0.7839 - val_attrition_output_loss: 1.1855 - val_dept_output_accuracy: 1.0000 - val_dept_output_loss: 4.8753e-04 - val_loss: 1.2554\n",
      "Epoch 97/100\n",
      "\u001b[1m30/30\u001b[0m \u001b[32m━━━━━━━━━━━━━━━━━━━━\u001b[0m\u001b[37m\u001b[0m \u001b[1m0s\u001b[0m 4ms/step - attrition_output_accuracy: 0.9968 - attrition_output_loss: 0.0356 - dept_output_accuracy: 1.0000 - dept_output_loss: 9.5459e-05 - loss: 0.0357 - val_attrition_output_accuracy: 0.8305 - val_attrition_output_loss: 1.2602 - val_dept_output_accuracy: 1.0000 - val_dept_output_loss: 5.7916e-04 - val_loss: 1.3363\n",
      "Epoch 98/100\n",
      "\u001b[1m30/30\u001b[0m \u001b[32m━━━━━━━━━━━━━━━━━━━━\u001b[0m\u001b[37m\u001b[0m \u001b[1m0s\u001b[0m 4ms/step - attrition_output_accuracy: 0.9947 - attrition_output_loss: 0.0302 - dept_output_accuracy: 1.0000 - dept_output_loss: 5.6173e-05 - loss: 0.0303 - val_attrition_output_accuracy: 0.8220 - val_attrition_output_loss: 1.2795 - val_dept_output_accuracy: 1.0000 - val_dept_output_loss: 4.7077e-04 - val_loss: 1.3558\n",
      "Epoch 99/100\n",
      "\u001b[1m30/30\u001b[0m \u001b[32m━━━━━━━━━━━━━━━━━━━━\u001b[0m\u001b[37m\u001b[0m \u001b[1m0s\u001b[0m 4ms/step - attrition_output_accuracy: 0.9947 - attrition_output_loss: 0.0323 - dept_output_accuracy: 1.0000 - dept_output_loss: 6.6539e-05 - loss: 0.0324 - val_attrition_output_accuracy: 0.8136 - val_attrition_output_loss: 1.2816 - val_dept_output_accuracy: 1.0000 - val_dept_output_loss: 5.5021e-04 - val_loss: 1.3551\n",
      "Epoch 100/100\n",
      "\u001b[1m30/30\u001b[0m \u001b[32m━━━━━━━━━━━━━━━━━━━━\u001b[0m\u001b[37m\u001b[0m \u001b[1m0s\u001b[0m 4ms/step - attrition_output_accuracy: 0.9950 - attrition_output_loss: 0.0295 - dept_output_accuracy: 1.0000 - dept_output_loss: 6.3286e-05 - loss: 0.0293 - val_attrition_output_accuracy: 0.8093 - val_attrition_output_loss: 1.2498 - val_dept_output_accuracy: 1.0000 - val_dept_output_loss: 5.0703e-04 - val_loss: 1.3230\n"
     ]
    }
   ],
   "source": [
    "# Train the model\n",
    "model.compile(\n",
    "    optimizer='adam',\n",
    "    loss={\n",
    "        'dept_output': 'categorical_crossentropy',\n",
    "        'attrition_output': 'binary_crossentropy'\n",
    "    },\n",
    "    metrics={\n",
    "        'dept_output': 'accuracy',\n",
    "        'attrition_output': 'accuracy'\n",
    "    }\n",
    ")\n",
    "\n",
    "\n",
    "history = model.fit(\n",
    "    X_train_scaled,\n",
    "    {\n",
    "        'dept_output': X_train_dept_encoded,\n",
    "        'attrition_output': y_train_numeric.values.reshape(-1, 1)\n",
    "    },\n",
    "    epochs=100,\n",
    "    batch_size=32,\n",
    "    validation_split=0.2\n",
    ")\n"
   ]
  },
  {
   "cell_type": "code",
   "execution_count": 46,
   "metadata": {
    "colab": {
     "base_uri": "https://localhost:8080/"
    },
    "executionInfo": {
     "elapsed": 379,
     "status": "ok",
     "timestamp": 1730699259894,
     "user": {
      "displayName": "Alexander Booth",
      "userId": "02269714993535573104"
     },
     "user_tz": 360
    },
    "id": "VsMoaQlgGc3U",
    "outputId": "636c85ba-ee63-4087-b7d1-00b408f1055a"
   },
   "outputs": [
    {
     "name": "stdout",
     "output_type": "stream",
     "text": [
      "\u001b[1m10/10\u001b[0m \u001b[32m━━━━━━━━━━━━━━━━━━━━\u001b[0m\u001b[37m\u001b[0m \u001b[1m0s\u001b[0m 4ms/step - attrition_output_accuracy: 0.7849 - attrition_output_loss: 1.3304 - dept_output_accuracy: 0.9978 - dept_output_loss: 0.0186 - loss: 1.3597     \n",
      "loss: 1.5384\n",
      "compile_metrics: 0.0274\n",
      "dept_output_loss: 1.4522\n",
      "attrition_output_loss: 0.7653\n"
     ]
    },
    {
     "name": "stderr",
     "output_type": "stream",
     "text": [
      "/var/folders/7l/lzrcxgyj7wgdj6gs3nwf5xnc0000gn/T/ipykernel_23315/659068218.py:2: FutureWarning: Downcasting behavior in `replace` is deprecated and will be removed in a future version. To retain the old behavior, explicitly call `result.infer_objects(copy=False)`. To opt-in to the future behavior, set `pd.set_option('future.no_silent_downcasting', True)`\n",
      "  y_test_numeric = y_test.replace({'No': 0, 'Yes': 1}).astype('float32')\n"
     ]
    }
   ],
   "source": [
    "# Evaluate the model with the testing data\n",
    "y_test_numeric = y_test.replace({'No': 0, 'Yes': 1}).astype('float32')\n",
    "\n",
    "\n",
    "results = model.evaluate(\n",
    "    X_test_scaled,\n",
    "    {\n",
    "        'dept_output': X_test_dept_encoded.astype('float32'),\n",
    "        'attrition_output': y_test_numeric.values.reshape(-1, 1)\n",
    "    }\n",
    ")\n",
    "for name, value in zip(model.metrics_names, results):\n",
    "    print(f\"{name}: {value:.4f}\")\n"
   ]
  },
  {
   "cell_type": "code",
   "execution_count": 48,
   "metadata": {
    "colab": {
     "base_uri": "https://localhost:8080/"
    },
    "executionInfo": {
     "elapsed": 113,
     "status": "ok",
     "timestamp": 1730699260004,
     "user": {
      "displayName": "Alexander Booth",
      "userId": "02269714993535573104"
     },
     "user_tz": 360
    },
    "id": "ZlCtlHi0Vt54",
    "outputId": "3a32435c-11cf-48da-81b5-1431d6c00da2"
   },
   "outputs": [
    {
     "name": "stdout",
     "output_type": "stream",
     "text": [
      "\u001b[1m10/10\u001b[0m \u001b[32m━━━━━━━━━━━━━━━━━━━━\u001b[0m\u001b[37m\u001b[0m \u001b[1m0s\u001b[0m 4ms/step - attrition_output_accuracy: 0.7849 - attrition_output_loss: 1.3304 - dept_output_accuracy: 0.9978 - dept_output_loss: 0.0186 - loss: 1.3597     \n"
     ]
    }
   ],
   "source": [
    "# Print the accuracy for both department and attrition\n",
    "results = model.evaluate(\n",
    "    X_test_scaled,\n",
    "    {\n",
    "        'dept_output': X_test_dept_encoded.astype('float32'),\n",
    "        'attrition_output': y_test_numeric.values.reshape(-1, 1)\n",
    "    }\n",
    ")\n",
    "\n",
    "# Get metric names and print only the accuracy metrics\n",
    "for name, value in zip(model.metrics_names, results):\n",
    "    if 'accuracy' in name:\n",
    "        print(f\"{name}: {value:.4f}\")"
   ]
  },
  {
   "cell_type": "markdown",
   "metadata": {
    "id": "eGSyfsZfWOQM"
   },
   "source": [
    "# Summary\n",
    "\n",
    "In the provided space below, briefly answer the following questions.\n",
    "\n",
    "1. Is accuracy the best metric to use on this data? Why or why not?\n",
    "\n",
    "2. What activation functions did you choose for your output layers, and why?\n",
    "\n",
    "3. Can you name a few ways that this model might be improved?"
   ]
  },
  {
   "cell_type": "markdown",
   "metadata": {
    "id": "pi9SLpFnWvbF"
   },
   "source": [
    "YOUR ANSWERS HERE\n",
    "\n",
    "1. Accuracy is not always the best metric for this data, especially for the Attrition prediction. Attrition datasets are often imbalanced, with many more \"No\" (not leaving) than \"Yes\" (leaving) cases. In such cases, a model can achieve high accuracy by always predicting the majority class, but this does not mean it is good at identifying employees who actually leave.\n",
    "2. Attrition output:\n",
    "I used a sigmoid activation function for the Attrition output layer because this is a binary classification problem (\"Yes\" or \"No\"). Sigmoid outputs a probability between 0 and 1, which is ideal for binary outcomes.\n",
    "\n",
    "\n",
    "Department output:\n",
    "I used a softmax activation function for the Department output layer because this is a multi-class classification problem (predicting one of several departments). Softmax outputs a probability distribution across all possible classes, ensuring the probabilities sum to 1.\n",
    "\n",
    "3. Address class imbalance:\n",
    "Use class weighting, oversampling (e.g., SMOTE), or undersampling to help the model learn from rare events like attrition.\n",
    "\n",
    "Tune hyperparameters:\n",
    "Experiment with the number of layers, units per layer, learning rate, batch size, and activation functions.\n",
    "\n",
    "Feature engineering:\n",
    "Create new features, select the most relevant features, or use domain knowledge to improve input data."
   ]
  },
  {
   "cell_type": "code",
   "execution_count": null,
   "metadata": {
    "executionInfo": {
     "elapsed": 3,
     "status": "ok",
     "timestamp": 1730699260004,
     "user": {
      "displayName": "Alexander Booth",
      "userId": "02269714993535573104"
     },
     "user_tz": 360
    },
    "id": "ZuQWjGgGXZ3C"
   },
   "outputs": [],
   "source": []
  }
 ],
 "metadata": {
  "colab": {
   "provenance": []
  },
  "kernelspec": {
   "display_name": "dev",
   "language": "python",
   "name": "python3"
  },
  "language_info": {
   "codemirror_mode": {
    "name": "ipython",
    "version": 3
   },
   "file_extension": ".py",
   "mimetype": "text/x-python",
   "name": "python",
   "nbconvert_exporter": "python",
   "pygments_lexer": "ipython3",
   "version": "3.10.15"
  }
 },
 "nbformat": 4,
 "nbformat_minor": 0
}
